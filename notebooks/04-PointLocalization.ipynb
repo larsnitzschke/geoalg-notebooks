{
 "cells": [
  {
   "cell_type": "markdown",
   "metadata": {},
   "source": [
    "# 04: Point Localization"
   ]
  },
  {
   "cell_type": "markdown",
   "metadata": {},
   "source": [
    "*Authors: Lars Nitzschke, Prof. Dr. Kevin Buchin*"
   ]
  },
  {
   "cell_type": "markdown",
   "metadata": {},
   "source": [
    "This notebook serves as supplementary learning material for the course **Geometric Algorithms**.\n",
    "It showcases and explains implementations of algorithms presented in the corresponding lecture, and elaborates on some practical considerations concerning their use.\n",
    "Furthermore, it offers interactive visualisations and animations."
   ]
  },
  {
   "cell_type": "markdown",
   "metadata": {},
   "source": [
    "## Table of Contents"
   ]
  },
  {
   "cell_type": "markdown",
   "metadata": {},
   "source": [
    "1. Introduction  \n",
    "2. Setup  \n",
    "3. Algorithms  \n",
    "    3.1. Slab Decomposition  \n",
    "    3.2. Vertical Decomposition\n",
    "4. References  "
   ]
  },
  {
   "cell_type": "markdown",
   "metadata": {},
   "source": [
    "## 1. Introduction"
   ]
  },
  {
   "cell_type": "markdown",
   "metadata": {},
   "source": [
    "The **point localization problem** was stated in the lecture as follows: Preprocess a planar subdivision such that for any query point q, the face of the subdivision containing q can be given efficiently.\n",
    "\n",
    "For the **one dimensional** problem it was shown, that the problem can be solved efficiently using a balanced binary search tree.\n",
    "\n",
    "[Image with example ?]"
   ]
  },
  {
   "cell_type": "markdown",
   "metadata": {},
   "source": [
    "## 2. Setup"
   ]
  },
  {
   "cell_type": "markdown",
   "metadata": {},
   "source": [
    "First let's do some setup. This is not very interesting, so you can skip to Section 3 if you want.\n",
    "\n",
    "We now import everything we'll need throughout this notebook from external sources, including our module for generic data structures, our module for geometric primitives and operations as well as our module for visualisation purposes. \n",
    "These modules are explained in [notebook no. 00](./00-Basics.ipynb)."
   ]
  },
  {
   "cell_type": "code",
   "execution_count": 11,
   "metadata": {},
   "outputs": [],
   "source": [
    "# Python standard library imports\n",
    "import math\n",
    "from typing import Any, Optional\n",
    "from itertools import combinations\n",
    "\n",
    "# Data structure, geometry and visualisation module imports\n",
    "from modules.data_structures import BinaryTree, BinaryTreeDict, Comparator, ComparisonResult as CR, DoublyConnectedSimplePolygon, HalfEdge, DoublyConnectedEdgeList, PointLocation\n",
    "from modules.geometry import Point, PointReference, PointSequence, LineSegment, Orientation as ORT, EPSILON, Rectangle\n",
    "from modules.visualisation import VisualisationTool, PointLocationInstance, SlabDecompositionMode, VerticalExtensionMode, PointLocationMode"
   ]
  },
  {
   "cell_type": "markdown",
   "metadata": {},
   "source": [
    "Additionally, we create an object for our visualisation tool and register a few example instances."
   ]
  },
  {
   "cell_type": "code",
   "execution_count": 12,
   "metadata": {},
   "outputs": [
    {
     "data": {
      "application/vnd.jupyter.widget-view+json": {
       "model_id": "fd316b0a43cb487a906f1c5ef7e6d2e8",
       "version_major": 2,
       "version_minor": 0
      },
      "text/plain": [
       "HBox(children=(VBox(children=(Output(layout=Layout(border_bottom='1px solid black', border_left='1px solid bla…"
      ]
     },
     "metadata": {},
     "output_type": "display_data"
    }
   ],
   "source": [
    "visualisation_tool = VisualisationTool(400, 400, PointLocationInstance(drawing_epsilon=10))\n",
    "canvas_size = min(visualisation_tool.width, visualisation_tool.height)\n",
    "\n",
    "c = 0.5 * canvas_size\n",
    "r = 0.75 * c\n",
    "s = c - r\n",
    "t = c + r\n",
    "u = (t - s) / 30\n",
    "\n",
    "points = [Point(s + 20*u, t),        Point(s + 26*u, t -  6*u), Point(s + 30*u, t -  8*u), Point(s + 28*u, t - 10*u),\n",
    "          Point(s + 18*u, t - 12*u), Point(s + 29*u, s + 14*u), Point(s + 27*u, s +  6*u), Point(s + 22*u, s +  1*u),\n",
    "          Point(s + 14*u, s +  4*u), Point(s + 10*u, s),        Point(s +  2*u, s +  5*u), Point(s + 12*u, s + 12*u),\n",
    "          Point(s +  4*u, s + 13*u), Point(s +  1*u, s + 16*u), Point(s +  3*u, t - 13*u), Point(s +  5*u, t -  4*u),\n",
    "          Point(s + 10*u, t -  1*u), Point(s + 14*u, t - 15*u), Point(s + 18*u, s +  8*u)]\n",
    "          \n",
    "edges = [(0,1), (1,2), (2,3), (3,4), (4,5), (5,6), (6,7), (7,8), (8,9), (9,10), (10,11), (11,12), (12,13), (13,14),\n",
    "         (14,15), (15,16), (16,0), (1,3), (4,16), (4,17), (12,17), (14,17), (5,11), (6,18), (10,18)]\n",
    "\n",
    "# For adding an inner component:\n",
    "#points.extend([Point(s + 16*u, t -  6*u), Point(s + 20*u, t -  2*u), Point(s + 22*u, t -  8*u)])\n",
    "#edges.extend([(19,20), (20, 21), (18,21)])\n",
    "\n",
    "dcel = DoublyConnectedEdgeList(points, edges)\n",
    "visualisation_tool.register_example_instance(\"Course Example\", dcel)\n",
    "\n",
    "points = [Point(80, 140), Point(260, 130), Point(340, 200), Point(170, 280), Point(50, 220), Point(200, 60)]\n",
    "edges = [(0,1), (1,2), (2,3), (4,1), (5,1)]\n",
    "\n",
    "dcel = DoublyConnectedEdgeList(points, edges)\n",
    "visualisation_tool.register_example_instance(\"Testing\", dcel)\n",
    "visualisation_tool.display()"
   ]
  },
  {
   "cell_type": "code",
   "execution_count": 13,
   "metadata": {},
   "outputs": [],
   "source": [
    "# visualisation_tool = VisualisationTool(400, 400, PointLocationInstance())\n",
    "# pl = PointLocation(Rectangle(Point(0, 0), Point(400, 400)), dcel)\n",
    "# visualisation_tool.register_example_instance(\"Testing example\", pl)\n",
    "\n",
    "def build_vertical_decomposition(pl: PointLocation) -> PointSequence:\n",
    "    pl.build_vertical_decomposition(pl.dcel_prepocessing(pl._dcel))\n",
    "    return pl._vertical_decomposition._point_sequence\n",
    "\n",
    "\n",
    "visualisation_tool.register_algorithm(\"Build Vert. Decomp.\", build_vertical_decomposition, VerticalExtensionMode())\n",
    "\n",
    "# visualisation_tool._example_buttons[0].click()\n",
    "# visualisation_tool._algorithm_buttons[0].click()\n",
    "# visualisation_tool._random_button.click()"
   ]
  },
  {
   "cell_type": "code",
   "execution_count": 14,
   "metadata": {},
   "outputs": [
    {
     "data": {
      "application/vnd.jupyter.widget-view+json": {
       "model_id": "533b12555110427da47b680849e3b613",
       "version_major": 2,
       "version_minor": 0
      },
      "text/plain": [
       "HBox(children=(VBox(children=(Output(layout=Layout(border_bottom='1px solid black', border_left='1px solid bla…"
      ]
     },
     "metadata": {},
     "output_type": "display_data"
    }
   ],
   "source": [
    "def point_location(pl: PointLocation) -> PointSequence:\n",
    "    point = pl._dcel._last_added_vertex.point\n",
    "    point_edges = pl._dcel.find_edges_of_vertex(pl._dcel._last_added_vertex)\n",
    "    if len(point_edges) > 1 or point_edges[0].origin != point_edges[0].destination:\n",
    "        raise ValueError(f\"Point Location needs to search for a single point not connected to any other point.\")\n",
    "    dcel_face, ps = pl._search_structure.query(point)\n",
    "    return ps        \n",
    "\n",
    "def preprocessing(pl: PointLocation) -> PointSequence:\n",
    "    pl.build_vertical_decomposition(PointLocation.dcel_prepocessing(pl._dcel))\n",
    "\n",
    "visualisation_tool.register_algorithm(\"Point Location\", point_location, PointLocationMode(), preprocessing=preprocessing)\n",
    "\n",
    "visualisation_tool.display()"
   ]
  },
  {
   "cell_type": "code",
   "execution_count": 15,
   "metadata": {},
   "outputs": [],
   "source": [
    "#visualisation_tool._algorithm_buttons[0].click()\n",
    "#visualisation_tool._algorithm_buttons[1].click()\n",
    "\n",
    "#visualisation_tool.handle_click_on_multi_canvas(200, 400 - 60)\n",
    "#visualisation_tool.handle_click_on_multi_canvas(80, 400 - 140)\n",
    "#visualisation_tool.handle_click_on_multi_canvas(190, 400 - 100)\n",
    "#visualisation_tool.handle_click_on_multi_canvas(190, 400 - 100)\n",
    "#visualisation_tool.handle_click_on_multi_canvas(200, 400 - 60)\n",
    "#\n",
    "#visualisation_tool.handle_click_on_multi_canvas(190, 400 - 100)\n",
    "#visualisation_tool.handle_click_on_multi_canvas(150, 400 - 120)"
   ]
  },
  {
   "cell_type": "code",
   "execution_count": 16,
   "metadata": {},
   "outputs": [],
   "source": [
    "# TODO: Animation of DCEL drawings\n",
    "# TODO: DCEL: Problem with only two points\n",
    "# TODO: VD-RIC\n",
    "# TODO: DCEL check for crossings and raise exception or add as segment not as an edge\n",
    "# TODO: FIX problem with spikes inside dcel faces\n",
    "\n",
    "# TODO: Slab decompostion\n",
    "# TODO: Slab decompostion drawings"
   ]
  },
  {
   "cell_type": "code",
   "execution_count": 17,
   "metadata": {},
   "outputs": [],
   "source": [
    "#print(\"A\")\n",
    "#visualisation_tool.handle_click_on_multi_canvas(200, 200)\n",
    "#print(\"B\")\n",
    "#visualisation_tool.handle_click_on_multi_canvas(200, 200)\n",
    "#\n",
    "#\n",
    "#print(\"C\")\n",
    "#visualisation_tool.handle_click_on_multi_canvas(100, 200)\n",
    "#print(\"D\")\n",
    "#visualisation_tool.handle_click_on_multi_canvas(100, 200)\n",
    "#\n",
    "#\n",
    "#print(\"E\")\n",
    "#visualisation_tool.handle_click_on_multi_canvas(50, 50)\n",
    "#print(\"F\")\n",
    "#visualisation_tool.handle_click_on_multi_canvas(50, 50)\n",
    "#\n",
    "#\n",
    "#print(\"G\")\n",
    "#visualisation_tool.handle_click_on_multi_canvas(200, 200)"
   ]
  },
  {
   "cell_type": "markdown",
   "metadata": {},
   "source": [
    "## 3. Algorithms"
   ]
  },
  {
   "cell_type": "markdown",
   "metadata": {},
   "source": [
    "### 3.1 Slab Decomposition"
   ]
  },
  {
   "cell_type": "code",
   "execution_count": 18,
   "metadata": {},
   "outputs": [],
   "source": [
    "class FloatComparator(Comparator[float]):\n",
    "    def compare(self, item: Any, key: float) -> CR:\n",
    "        if not isinstance(item, float):\n",
    "            raise TypeError(\"Only floats can be compared to floats\")\n",
    "        elif abs(item - key) <= EPSILON:\n",
    "            return CR.MATCH\n",
    "        elif item - key > EPSILON:\n",
    "            return CR.BEFORE\n",
    "        else:\n",
    "            return CR.AFTER\n",
    "        \n",
    "class SD_LineSegementComparator(Comparator[LineSegment]):\n",
    "    def compare(self, item: Any, key: LineSegment) -> CR:\n",
    "        if not isinstance(item, LineSegment):\n",
    "            raise TypeError(\"Only LineSegments can be compared to LineSegements\")\n",
    "        elif abs(item.lower - key.lower) <= EPSILON:\n",
    "            return CR.MATCH\n",
    "        elif item - key > EPSILON:\n",
    "            return CR.BEFORE\n",
    "        else:\n",
    "            return CR.AFTER"
   ]
  },
  {
   "cell_type": "code",
   "execution_count": 19,
   "metadata": {},
   "outputs": [],
   "source": [
    "def slab_decomposition(dcel: DoublyConnectedSimplePolygon) -> PointSequence:\n",
    "    return SlabDecomposition(dcel).do()\n",
    "\n",
    "class SlabDecomposition:\n",
    "    def __init__(self, dcel: DoublyConnectedSimplePolygon):\n",
    "        self._x_comparator = FloatComparator()\n",
    "        self._y_comparator = SD_LineSegementComparator()\n",
    "        self._data_tree: BinaryTreeDict[float, BinaryTreeDict[LineSegment, Any]] = BinaryTreeDict(self._x_comparator) #TODO: Any -> DCEL-face\n",
    "        for vertex in dcel.vertices():\n",
    "            self._data_tree.update(vertex.point.x, BinaryTreeDict(self._y_comparator))\n",
    "            for vertex in dcel.vertices():\n",
    "                edge = vertex.edge\n",
    "                cr: CR = self._comparator.compare(edge.origin.y, edge.next.origin.y)\n",
    "    def do():\n",
    "        pass"
   ]
  },
  {
   "cell_type": "code",
   "execution_count": 20,
   "metadata": {},
   "outputs": [],
   "source": [
    "# visualisation_tool.register_algorithm(\"Slab Decomposition\", slab_decomposition, SlabDecompositionMode())"
   ]
  },
  {
   "cell_type": "markdown",
   "metadata": {},
   "source": [
    "### 3.2 Vertical Decomposition"
   ]
  }
 ],
 "metadata": {
  "kernelspec": {
   "display_name": "Python 3",
   "language": "python",
   "name": "python3"
  },
  "language_info": {
   "codemirror_mode": {
    "name": "ipython",
    "version": 3
   },
   "file_extension": ".py",
   "mimetype": "text/x-python",
   "name": "python",
   "nbconvert_exporter": "python",
   "pygments_lexer": "ipython3",
   "version": "3.11.3"
  },
  "orig_nbformat": 4
 },
 "nbformat": 4,
 "nbformat_minor": 2
}
