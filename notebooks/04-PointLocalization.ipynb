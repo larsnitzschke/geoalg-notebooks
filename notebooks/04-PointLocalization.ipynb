{
 "cells": [
  {
   "cell_type": "markdown",
   "metadata": {},
   "source": [
    "# 04: Point Localization"
   ]
  },
  {
   "cell_type": "markdown",
   "metadata": {},
   "source": [
    "*Authors: Lars Nitzschke, Prof. Dr. Kevin Buchin*"
   ]
  },
  {
   "cell_type": "markdown",
   "metadata": {},
   "source": [
    "This notebook serves as supplementary learning material for the course **Geometric Algorithms**.\n",
    "It showcases and explains implementations of algorithms presented in the corresponding lecture, and elaborates on some practical considerations concerning their use.\n",
    "Furthermore, it offers interactive visualisations and animations."
   ]
  },
  {
   "cell_type": "markdown",
   "metadata": {},
   "source": [
    "## Table of Contents"
   ]
  },
  {
   "cell_type": "markdown",
   "metadata": {},
   "source": [
    "1. Introduction  \n",
    "2. Setup  \n",
    "3. Algorithms  \n",
    "    3.1. Slab Decomposition  \n",
    "    3.2. Vertical Decomposition\n",
    "4. References  "
   ]
  },
  {
   "cell_type": "markdown",
   "metadata": {},
   "source": [
    "## 1. Introduction"
   ]
  },
  {
   "cell_type": "markdown",
   "metadata": {},
   "source": [
    "The **point localization problem** was stated in the lecture as follows: Preprocess a planar subdivision such that for any query point q, the face of the subdivision containing q can be given efficiently.\n",
    "\n",
    "For the **one dimensional** problem it was shown, that the problem can be solved efficiently using a balanced binary search tree.\n",
    "\n",
    "[Image with example ?]"
   ]
  },
  {
   "cell_type": "markdown",
   "metadata": {},
   "source": [
    "# 2. Setup"
   ]
  },
  {
   "cell_type": "markdown",
   "metadata": {},
   "source": [
    "First let's do some setup. This is not very interesting, so you can skip to Section 3 if you want.\n",
    "\n",
    "We now import everything we'll need throughout this notebook from external sources, including our module for generic data structures, our module for geometric primitives and operations as well as our module for visualisation purposes. \n",
    "These modules are explained in [notebook no. 00](./00-Basics.ipynb)."
   ]
  },
  {
   "cell_type": "code",
   "execution_count": 1,
   "metadata": {},
   "outputs": [],
   "source": [
    "# Python standard library imports\n",
    "import math\n",
    "from typing import Any, Optional\n",
    "from itertools import combinations\n",
    "\n",
    "# Data structure, geometry and visualisation module imports\n",
    "from modules.data_structures import BinaryTree, BinaryTreeDict, Comparator, ComparisonResult as CR, DoublyConnectedSimplePolygon, HalfEdge, DoublyConnectedEdgeList, PointLocation\n",
    "from modules.geometry import Point, PointSequence, LineSegment, Orientation as ORT, EPSILON, Rectangle\n",
    "from modules.visualisation import VisualisationTool, PointLocationInstance, DCELInstance, SlabDecompositionMode"
   ]
  },
  {
   "cell_type": "markdown",
   "metadata": {},
   "source": [
    "Additionally, we create an object for our visualisation tool and register a few example instances."
   ]
  },
  {
   "cell_type": "code",
   "execution_count": 2,
   "metadata": {},
   "outputs": [],
   "source": [
    "visualisation_tool = VisualisationTool(400, 400, DCELInstance())\n",
    "canvas_size = min(visualisation_tool.width, visualisation_tool.height)\n",
    "\n",
    "c = 0.5 * canvas_size\n",
    "r = 0.75 * c\n",
    "s = c - r\n",
    "t = c + r\n",
    "u = (t - s) / 32\n",
    "\n",
    "points = [Point(s + 20*u, t),        Point(s + 26*u, t -  6*u), Point(s + 30*u, t -  8*u), Point(s + 28*u, t - 10*u),\n",
    "          Point(s + 18*u, t - 12*u), Point(s + 29*u, s + 14*u), Point(s + 27*u, s +  6*u), Point(s + 22*u, s +  1*u),\n",
    "          Point(s + 14*u, s +  4*u), Point(s + 10*u, s),        Point(s +  2*u, s +  5*u), Point(s + 12*u, s + 12*u),\n",
    "          Point(s +  4*u, s + 13*u), Point(s +  1*u, s + 16*u), Point(s +  3*u, t - 13*u), Point(s +  5*u, t -  4*u),\n",
    "          Point(s + 10*u, t -  1*u), Point(s + 14*u, t - 15*u), Point(s + 18*u, s +  8*u)]\n",
    "          \n",
    "edges = [(0,1), (1,2), (2,3), (3,4), (4,5), (5,6), (6,7), (7,8), (8,9), (9,10), (10,11), (11,12), (12,13), (13,14),\n",
    "         (14,15), (15,16), (16,0), (1,3), (4,16), (4,17), (12,17), (14,17), (5,11), (6,18), (10,18)]\n",
    "\n",
    "# For adding an inner component:\n",
    "#points.extend([Point(s + 16*u, t -  6*u), Point(s + 20*u, t -  2*u), Point(s + 22*u, t -  8*u)])\n",
    "#edges.extend([(19,20), (20, 21), (18,21)])\n",
    "\n",
    "dcel = DoublyConnectedEdgeList(points, edges)\n",
    "visualisation_tool.register_example_instance(\"Course Example\", dcel)"
   ]
  },
  {
   "cell_type": "code",
   "execution_count": 3,
   "metadata": {},
   "outputs": [
    {
     "data": {
      "application/vnd.jupyter.widget-view+json": {
       "model_id": "0c02c8125cc5456cae72f6e2d3e5c634",
       "version_major": 2,
       "version_minor": 0
      },
      "text/plain": [
       "HBox(children=(VBox(children=(Output(layout=Layout(border_bottom='1px solid black', border_left='1px solid bla…"
      ]
     },
     "metadata": {},
     "output_type": "display_data"
    }
   ],
   "source": [
    "visualisation_tool.display()"
   ]
  },
  {
   "cell_type": "code",
   "execution_count": 8,
   "metadata": {},
   "outputs": [
    {
     "data": {
      "application/vnd.jupyter.widget-view+json": {
       "model_id": "3d400daf003446aa92f862c31ff28ac4",
       "version_major": 2,
       "version_minor": 0
      },
      "text/plain": [
       "HBox(children=(VBox(children=(Output(layout=Layout(border_bottom='1px solid black', border_left='1px solid bla…"
      ]
     },
     "metadata": {},
     "output_type": "display_data"
    },
    {
     "ename": "AttributeError",
     "evalue": "'NoneType' object has no attribute 'contains'",
     "output_type": "error",
     "traceback": [
      "\u001b[1;31m---------------------------------------------------------------------------\u001b[0m",
      "\u001b[1;31mAttributeError\u001b[0m                            Traceback (most recent call last)",
      "File \u001b[1;32md:\\Code\\geoalg-notebooks\\geoalg-notebooks\\notebooks\\modules\\visualisation\\tool.py:47\u001b[0m, in \u001b[0;36mVisualisationTool.__init__.<locals>.handle_click_on_multi_canvas\u001b[1;34m(x, y)\u001b[0m\n\u001b[0;32m     45\u001b[0m \u001b[39mif\u001b[39;00m time\u001b[39m.\u001b[39mtime() \u001b[39m-\u001b[39m \u001b[39mself\u001b[39m\u001b[39m.\u001b[39m_previous_callback_finish_time \u001b[39m<\u001b[39m \u001b[39m1.0\u001b[39m:       \u001b[39m# TODO: This doesn't work well...\u001b[39;00m\n\u001b[0;32m     46\u001b[0m     \u001b[39mreturn\u001b[39;00m\n\u001b[1;32m---> 47\u001b[0m \u001b[39mif\u001b[39;00m \u001b[39mself\u001b[39;49m\u001b[39m.\u001b[39;49madd_point(Point(x, \u001b[39mself\u001b[39;49m\u001b[39m.\u001b[39;49m_height \u001b[39m-\u001b[39;49m y)):\n\u001b[0;32m     48\u001b[0m     \u001b[39mself\u001b[39m\u001b[39m.\u001b[39mclear_algorithm_drawings()\n\u001b[0;32m     49\u001b[0m     \u001b[39mself\u001b[39m\u001b[39m.\u001b[39mclear_algorithm_messages()\n",
      "File \u001b[1;32md:\\Code\\geoalg-notebooks\\geoalg-notebooks\\notebooks\\modules\\visualisation\\tool.py:186\u001b[0m, in \u001b[0;36mVisualisationTool.add_point\u001b[1;34m(self, point)\u001b[0m\n\u001b[0;32m    183\u001b[0m \u001b[39mif\u001b[39;00m \u001b[39mself\u001b[39m\u001b[39m.\u001b[39m_number_of_points \u001b[39m>\u001b[39m\u001b[39m=\u001b[39m \u001b[39mself\u001b[39m\u001b[39m.\u001b[39m_MAX_NUMBER_OF_POINTS \u001b[39mor\u001b[39;00m \u001b[39mnot\u001b[39;00m \u001b[39mself\u001b[39m\u001b[39m.\u001b[39m_is_point_in_range(point):\n\u001b[0;32m    184\u001b[0m     \u001b[39mreturn\u001b[39;00m \u001b[39mFalse\u001b[39;00m\n\u001b[1;32m--> 186\u001b[0m was_point_added \u001b[39m=\u001b[39m \u001b[39mself\u001b[39;49m\u001b[39m.\u001b[39;49m_instance\u001b[39m.\u001b[39;49madd_point(point)\n\u001b[0;32m    187\u001b[0m \u001b[39mif\u001b[39;00m was_point_added:\n\u001b[0;32m    188\u001b[0m     \u001b[39mself\u001b[39m\u001b[39m.\u001b[39m_instance_drawer\u001b[39m.\u001b[39mdraw((point,))\n",
      "File \u001b[1;32md:\\Code\\geoalg-notebooks\\geoalg-notebooks\\notebooks\\modules\\visualisation\\instances.py:246\u001b[0m, in \u001b[0;36mPointLocationInstance.add_point\u001b[1;34m(self, point)\u001b[0m\n\u001b[0;32m    244\u001b[0m \u001b[39mif\u001b[39;00m line_segment \u001b[39min\u001b[39;00m \u001b[39mself\u001b[39m\u001b[39m.\u001b[39m_instance\u001b[39m.\u001b[39m_vertical_decomposition\u001b[39m.\u001b[39mline_segments:\n\u001b[0;32m    245\u001b[0m     \u001b[39mreturn\u001b[39;00m \u001b[39mFalse\u001b[39;00m\n\u001b[1;32m--> 246\u001b[0m \u001b[39mself\u001b[39;49m\u001b[39m.\u001b[39;49m_instance\u001b[39m.\u001b[39;49minsert(line_segment)\n\u001b[0;32m    247\u001b[0m \u001b[39mself\u001b[39m\u001b[39m.\u001b[39m_cached_point \u001b[39m=\u001b[39m \u001b[39mNone\u001b[39;00m\n\u001b[0;32m    249\u001b[0m \u001b[39mreturn\u001b[39;00m \u001b[39mTrue\u001b[39;00m\n",
      "File \u001b[1;32md:\\Code\\geoalg-notebooks\\geoalg-notebooks\\notebooks\\modules\\data_structures\\vertical_decomposition.py:29\u001b[0m, in \u001b[0;36mPointLocation.insert\u001b[1;34m(self, line_segment)\u001b[0m\n\u001b[0;32m     27\u001b[0m vd_line_segment \u001b[39m=\u001b[39m VDLineSegment\u001b[39m.\u001b[39mfrom_line_segment(line_segment)  \u001b[39m# TODO: preprocessing of the DCEL\u001b[39;00m\n\u001b[0;32m     28\u001b[0m \u001b[39mself\u001b[39m\u001b[39m.\u001b[39m_vertical_decomposition\u001b[39m.\u001b[39mline_segments\u001b[39m.\u001b[39mappend(vd_line_segment)\n\u001b[1;32m---> 29\u001b[0m unvalid_trapezoids, new_trapezoids \u001b[39m=\u001b[39m \u001b[39mself\u001b[39;49m\u001b[39m.\u001b[39;49m_vertical_decomposition\u001b[39m.\u001b[39;49mupdate(vd_line_segment, left_point_face)\n\u001b[0;32m     30\u001b[0m unvalid_leafs \u001b[39m=\u001b[39m [trapezoid\u001b[39m.\u001b[39msearch_leaf \u001b[39mfor\u001b[39;00m trapezoid \u001b[39min\u001b[39;00m unvalid_trapezoids]\n\u001b[0;32m     31\u001b[0m new_leafs \u001b[39m=\u001b[39m [VDLeaf(trapezoid) \u001b[39mfor\u001b[39;00m trapezoid \u001b[39min\u001b[39;00m new_trapezoids]  \u001b[39m# TODO FIX bug where trapezoid is None\u001b[39;00m\n",
      "File \u001b[1;32md:\\Code\\geoalg-notebooks\\geoalg-notebooks\\notebooks\\modules\\data_structures\\vertical_decomposition.py:156\u001b[0m, in \u001b[0;36mVerticalDecomposition.update\u001b[1;34m(self, line_segment, left_point_face)\u001b[0m\n\u001b[0;32m    154\u001b[0m intersected_face \u001b[39m=\u001b[39m left_point_face\n\u001b[0;32m    155\u001b[0m left, right \u001b[39m=\u001b[39m line_segment\u001b[39m.\u001b[39mleft, line_segment\u001b[39m.\u001b[39mright\n\u001b[1;32m--> 156\u001b[0m \u001b[39mwhile\u001b[39;00m \u001b[39mnot\u001b[39;00m intersected_face\u001b[39m.\u001b[39;49mcontains(line_segment\u001b[39m.\u001b[39mright): \n\u001b[0;32m    157\u001b[0m     \u001b[39m# Easier: rightp above/below line_segment\u001b[39;00m\n\u001b[0;32m    158\u001b[0m     intersection_y \u001b[39m=\u001b[39m line_segment\u001b[39m.\u001b[39mleft\u001b[39m.\u001b[39my \u001b[39m+\u001b[39m (intersected_face\u001b[39m.\u001b[39mright_point\u001b[39m.\u001b[39mx\u001b[39m-\u001b[39mleft\u001b[39m.\u001b[39mx) \u001b[39m/\u001b[39m (right\u001b[39m.\u001b[39mx\u001b[39m-\u001b[39mleft\u001b[39m.\u001b[39mx) \u001b[39m*\u001b[39m (right\u001b[39m.\u001b[39my\u001b[39m-\u001b[39mleft\u001b[39m.\u001b[39my)\n\u001b[0;32m    159\u001b[0m     \u001b[39mif\u001b[39;00m intersection_y \u001b[39m>\u001b[39m intersected_face\u001b[39m.\u001b[39mright_point\u001b[39m.\u001b[39my:\n",
      "\u001b[1;31mAttributeError\u001b[0m: 'NoneType' object has no attribute 'contains'"
     ]
    }
   ],
   "source": [
    "visualisation_tool = VisualisationTool(400, 400, PointLocationInstance())\n",
    "\n",
    "ls_list = [LineSegment(Point(20,60), Point(150,40)), LineSegment(Point(40,10), Point(70,30)), LineSegment(Point(120,20), Point(180,20))]\n",
    "pl = PointLocation(Rectangle(Point(5, 5), Point(395, 395)), ls_list)\n",
    "visualisation_tool.register_example_instance(\"Testing example\", pl)\n",
    "\n",
    "visualisation_tool.display()"
   ]
  },
  {
   "cell_type": "markdown",
   "metadata": {},
   "source": [
    "## 3. Algorithms"
   ]
  },
  {
   "cell_type": "markdown",
   "metadata": {},
   "source": [
    "### 3.1 Slab Decomposition"
   ]
  },
  {
   "cell_type": "code",
   "execution_count": 5,
   "metadata": {},
   "outputs": [],
   "source": [
    "class FloatComparator(Comparator[float]):\n",
    "    def compare(self, item: Any, key: float) -> CR:\n",
    "        if not isinstance(item, float):\n",
    "            raise TypeError(\"Only floats can be compared to floats\")\n",
    "        elif abs(item - key) <= EPSILON:\n",
    "            return CR.MATCH\n",
    "        elif item - key > EPSILON:\n",
    "            return CR.BEFORE\n",
    "        else:\n",
    "            return CR.AFTER\n",
    "        \n",
    "class SD_LineSegementComparator(Comparator[LineSegment]):\n",
    "    def compare(self, item: Any, key: LineSegment) -> CR:\n",
    "        if not isinstance(item, LineSegment):\n",
    "            raise TypeError(\"Only LineSegments can be compared to LineSegements\")\n",
    "        elif abs(item.lower - key.lower) <= EPSILON:\n",
    "            return CR.MATCH\n",
    "        elif item - key > EPSILON:\n",
    "            return CR.BEFORE\n",
    "        else:\n",
    "            return CR.AFTER"
   ]
  },
  {
   "cell_type": "code",
   "execution_count": 6,
   "metadata": {},
   "outputs": [],
   "source": [
    "def slab_decomposition(dcel: DoublyConnectedSimplePolygon) -> PointSequence:\n",
    "    return SlabDecomposition(dcel).do()\n",
    "\n",
    "class SlabDecomposition:\n",
    "    def __init__(self, dcel: DoublyConnectedSimplePolygon):\n",
    "        self._x_comparator = FloatComparator()\n",
    "        self._y_comparator = SD_LineSegementComparator()\n",
    "        self._data_tree: BinaryTreeDict[float, BinaryTreeDict[LineSegment, Any]] = BinaryTreeDict(self._x_comparator) #TODO: Any -> DCEL-face\n",
    "        for vertex in dcel.vertices():\n",
    "            self._data_tree.update(vertex.point.x, BinaryTreeDict(self._y_comparator))\n",
    "            for vertex in dcel.vertices():\n",
    "                edge = vertex.edge\n",
    "                cr: CR = self._comparator.compare(edge.origin.y, edge.next.origin.y)\n",
    "    def do():\n",
    "        pass"
   ]
  },
  {
   "cell_type": "code",
   "execution_count": 7,
   "metadata": {},
   "outputs": [],
   "source": [
    "visualisation_tool.register_algorithm(\"Slab Decomposition\", slab_decomposition, SlabDecompositionMode())"
   ]
  },
  {
   "cell_type": "markdown",
   "metadata": {},
   "source": [
    "### 3.2 Vertical Decomposition"
   ]
  }
 ],
 "metadata": {
  "kernelspec": {
   "display_name": "Python 3",
   "language": "python",
   "name": "python3"
  },
  "language_info": {
   "codemirror_mode": {
    "name": "ipython",
    "version": 3
   },
   "file_extension": ".py",
   "mimetype": "text/x-python",
   "name": "python",
   "nbconvert_exporter": "python",
   "pygments_lexer": "ipython3",
   "version": "3.11.3"
  },
  "orig_nbformat": 4
 },
 "nbformat": 4,
 "nbformat_minor": 2
}
