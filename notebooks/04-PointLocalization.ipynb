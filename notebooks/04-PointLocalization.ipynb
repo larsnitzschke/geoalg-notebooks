{
 "cells": [
  {
   "cell_type": "markdown",
   "metadata": {},
   "source": [
    "# 04: Point Localization"
   ]
  },
  {
   "cell_type": "markdown",
   "metadata": {},
   "source": [
    "*Authors: Lars Nitzschke, Prof. Dr. Kevin Buchin*"
   ]
  },
  {
   "cell_type": "markdown",
   "metadata": {},
   "source": [
    "This notebook serves as supplementary learning material for the course **Geometric Algorithms**.\n",
    "It showcases and explains implementations of algorithms presented in the corresponding lecture, and elaborates on some practical considerations concerning their use.\n",
    "Furthermore, it offers interactive visualisations and animations."
   ]
  },
  {
   "cell_type": "markdown",
   "metadata": {},
   "source": [
    "## Table of Contents"
   ]
  },
  {
   "cell_type": "markdown",
   "metadata": {},
   "source": [
    "1. Introduction  \n",
    "2. Setup  \n",
    "3. Algorithms  \n",
    "    3.1. Slab Decomposition  \n",
    "    3.2. Vertical Decomposition\n",
    "4. References  "
   ]
  },
  {
   "cell_type": "markdown",
   "metadata": {},
   "source": [
    "## 1. Introduction"
   ]
  },
  {
   "cell_type": "markdown",
   "metadata": {},
   "source": [
    "The **point localization problem** was stated in the lecture as follows: Preprocess a planar subdivision such that for any query point q, the face of the subdivision containing q can be given efficiently.\n",
    "\n",
    "For the **one dimensional** problem it was shown, that the problem can be solved efficiently using a balanced binary search tree.\n",
    "\n",
    "[Image with example ?]"
   ]
  },
  {
   "cell_type": "markdown",
   "metadata": {},
   "source": [
    "## 2. Setup"
   ]
  },
  {
   "cell_type": "markdown",
   "metadata": {},
   "source": [
    "First let's do some setup. This is not very interesting, so you can skip to Section 3 if you want.\n",
    "\n",
    "We now import everything we'll need throughout this notebook from external sources, including our module for generic data structures, our module for geometric primitives and operations as well as our module for visualisation purposes. \n",
    "These modules are explained in [notebook no. 00](./00-Basics.ipynb)."
   ]
  },
  {
   "cell_type": "code",
   "execution_count": null,
   "metadata": {},
   "outputs": [],
   "source": [
    "# Python standard library imports\n",
    "import math\n",
    "from typing import Any, Optional\n",
    "from itertools import combinations, chain\n",
    "\n",
    "# Data structure, geometry and visualisation module imports\n",
    "from modules.data_structures import BinaryTree, BinaryTreeDict, Comparator, ComparisonResult as CR, DoublyConnectedSimplePolygon, HalfEdge, DoublyConnectedEdgeList, PointLocation, Face, VDLineSegment, AnimationBinaryTreeDict\n",
    "from modules.geometry import Point, PointReference, PointSequence, LineSegment, Orientation as ORT, EPSILON, Rectangle\n",
    "from modules.visualisation import VisualisationTool, PointLocationInstance, SlabDecompositionMode, VerticalExtensionMode, PointLocationMode, PolygonMode"
   ]
  },
  {
   "cell_type": "markdown",
   "metadata": {},
   "source": [
    "Additionally, we create an object for our visualisation tool and register a few example instances."
   ]
  },
  {
   "cell_type": "code",
   "execution_count": null,
   "metadata": {},
   "outputs": [],
   "source": [
    "visualisation_tool = VisualisationTool(400, 400, PointLocationInstance(drawing_epsilon=10))\n",
    "canvas_size = min(visualisation_tool.width, visualisation_tool.height)\n",
    "\n",
    "c = 0.5 * canvas_size\n",
    "r = 0.75 * c\n",
    "s = c - r\n",
    "t = c + r\n",
    "u = (t - s) / 30\n",
    "\n",
    "points = [Point(80, 140), Point(260, 130), Point(340, 200), Point(170, 280), Point(50, 220), Point(200, 60)]\n",
    "edges = [(0,1), (1,2), (2,3), (4,1), (5,1)]\n",
    "\n",
    "dcel = DoublyConnectedEdgeList(points, edges)\n",
    "visualisation_tool.register_example_instance(\"Testing\", dcel)\n",
    "\n",
    "points = [Point(s + 20*u, t),        Point(s + 26*u, t -  6*u), Point(s + 30*u, t -  8*u), Point(s + 28*u, t - 10*u),\n",
    "          Point(s + 18*u, t - 12*u), Point(s + 29*u, s + 14*u), Point(s + 27*u, s +  6*u), Point(s + 22*u, s +  1*u),\n",
    "          Point(s + 14*u, s +  4*u), Point(s + 10*u, s),        Point(s +  2*u, s +  5*u), Point(s + 12*u, s + 12*u),\n",
    "          Point(s +  4*u, s + 13*u), Point(s +  1*u, s + 16*u), Point(s +  3*u, t - 13*u), Point(s +  5*u, t -  4*u),\n",
    "          Point(s + 10*u, t -  1*u), Point(s + 14*u, t - 15*u), Point(s + 18*u, s +  8*u)]\n",
    "          \n",
    "edges = [(0,1), (1,2), (2,3), (3,4), (4,5), (5,6), (6,7), (7,8), (8,9), (9,10), (10,11), (11,12), (12,13), (13,14),\n",
    "         (14,15), (15,16), (16,0), (1,3), (4,16), (4,17), (12,17), (14,17), (5,11), (6,18), (10,18)]\n",
    "\n",
    "# For adding an inner component:\n",
    "#points.extend([Point(s + 16*u, t -  6*u), Point(s + 20*u, t -  2*u), Point(s + 22*u, t -  8*u)])\n",
    "#edges.extend([(19,20), (20, 21), (18,21)])\n",
    "\n",
    "dcel = DoublyConnectedEdgeList(points, edges)\n",
    "visualisation_tool.register_example_instance(\"Course Example\", dcel)\n",
    "\n",
    "visualisation_tool.display()"
   ]
  },
  {
   "cell_type": "code",
   "execution_count": null,
   "metadata": {},
   "outputs": [],
   "source": [
    "# visualisation_tool = VisualisationTool(400, 400, PointLocationInstance())\n",
    "# pl = PointLocation(Rectangle(Point(0, 0), Point(400, 400)), dcel)\n",
    "# visualisation_tool.register_example_instance(\"Testing example\", pl)\n",
    "\n",
    "def build_vertical_decomposition(pl: PointLocation) -> PointSequence:\n",
    "    pl.build_vertical_decomposition(pl.dcel_prepocessing(pl._dcel), random_seed = 42)\n",
    "    return pl._vertical_decomposition._point_sequence\n",
    "\n",
    "\n",
    "visualisation_tool.register_algorithm(\"Build Vert. Decomp.\", build_vertical_decomposition, VerticalExtensionMode())\n",
    "\n",
    "# visualisation_tool._example_buttons[0].click()\n",
    "# visualisation_tool._algorithm_buttons[0].click()\n",
    "# visualisation_tool._random_button.click()"
   ]
  },
  {
   "cell_type": "code",
   "execution_count": null,
   "metadata": {},
   "outputs": [],
   "source": [
    "def point_location(pl: PointLocation) -> PointSequence:\n",
    "    point = pl._dcel._last_added_vertex.point\n",
    "    point_edges = pl._dcel.find_edges_of_vertex(pl._dcel._last_added_vertex)\n",
    "    if len(point_edges) > 1 or point_edges[0].origin != point_edges[0].destination:\n",
    "        raise ValueError(f\"Point Location needs to search for a single point not connected to any other point.\")\n",
    "    dcel_face, ps = pl._search_structure.query(point)\n",
    "    return ps        \n",
    "\n",
    "def preprocessing(pl: PointLocation) -> PointSequence:\n",
    "    pl.build_vertical_decomposition(PointLocation.dcel_prepocessing(pl._dcel), random_seed = 42)\n",
    "\n",
    "visualisation_tool.register_algorithm(\"Point Location\", point_location, PointLocationMode(), preprocessing=preprocessing)\n",
    "\n",
    "visualisation_tool.display()"
   ]
  },
  {
   "cell_type": "code",
   "execution_count": null,
   "metadata": {},
   "outputs": [],
   "source": [
    "#visualisation_tool._random_button.click()\n",
    "#visualisation_tool._algorithm_buttons[0].click()\n",
    "#visualisation_tool._algorithm_buttons[1].click()\n",
    "\n",
    "#visualisation_tool.handle_click_on_multi_canvas(190,  90)\n",
    "#visualisation_tool.handle_click_on_multi_canvas(220, 110)\n",
    "#visualisation_tool.handle_click_on_multi_canvas(220, 110)\n",
    "#visualisation_tool.handle_click_on_multi_canvas(140, 100)\n",
    "#visualisation_tool.handle_click_on_multi_canvas(140, 100)\n",
    "#visualisation_tool.handle_click_on_multi_canvas(190,  90)\n",
    "#visualisation_tool.handle_click_on_multi_canvas(250,  80)"
   ]
  },
  {
   "cell_type": "code",
   "execution_count": null,
   "metadata": {},
   "outputs": [],
   "source": [
    "# TODO: Animation of DCEL drawings\n",
    "\n",
    "# TODO: DCEL check for crossings and raise exception or add as segment not as an edge\n",
    "# TODO: Clicking the canvas sometimes does not work"
   ]
  },
  {
   "cell_type": "code",
   "execution_count": null,
   "metadata": {},
   "outputs": [],
   "source": [
    "#print(\"A\")\n",
    "#visualisation_tool.handle_click_on_multi_canvas(200, 200)\n",
    "#print(\"B\")\n",
    "#visualisation_tool.handle_click_on_multi_canvas(200, 200)\n",
    "#\n",
    "#\n",
    "#print(\"C\")\n",
    "#visualisation_tool.handle_click_on_multi_canvas(100, 200)\n",
    "#print(\"D\")\n",
    "#visualisation_tool.handle_click_on_multi_canvas(100, 200)\n",
    "#\n",
    "#\n",
    "#print(\"E\")\n",
    "#visualisation_tool.handle_click_on_multi_canvas(50, 50)\n",
    "#print(\"F\")\n",
    "#visualisation_tool.handle_click_on_multi_canvas(50, 50)\n",
    "#\n",
    "#\n",
    "#print(\"G\")\n",
    "#visualisation_tool.handle_click_on_multi_canvas(200, 200)"
   ]
  },
  {
   "cell_type": "markdown",
   "metadata": {},
   "source": [
    "## 3. Algorithms"
   ]
  },
  {
   "cell_type": "markdown",
   "metadata": {},
   "source": [
    "### 3.1 Slab Decomposition"
   ]
  },
  {
   "cell_type": "code",
   "execution_count": null,
   "metadata": {},
   "outputs": [],
   "source": [
    "class PointXComparator(Comparator[Point]):\n",
    "    def compare(self, item: Any, key: Point) -> CR:\n",
    "        if not isinstance(item, Point):\n",
    "            raise TypeError(\"This comparator can only compared points to points\")\n",
    "        elif abs(item.x - key.x) < EPSILON:\n",
    "            return CR.MATCH\n",
    "        elif item.x - key.x > EPSILON:\n",
    "            return CR.AFTER\n",
    "        else:\n",
    "            return CR.BEFORE\n",
    "        \n",
    "class PointToLineSegmentComparator(Comparator[LineSegment]):\n",
    "    def compare(self, item: Any, key: LineSegment) -> CR:\n",
    "        if not isinstance(item, Point):\n",
    "            if not isinstance(item, LineSegment):\n",
    "                raise TypeError(\"This comparator can only compare either points or line segments to line segments\")\n",
    "            elif abs(item.y_from_x(key.left.x) - key.left.y) < EPSILON and abs(item.y_from_x(key.right.x) - key.right.y) < EPSILON:\n",
    "                return CR.MATCH\n",
    "            elif item.left.y - key.left.y > EPSILON \\\n",
    "                or abs(item.y_from_x(key.left.x) - key.left.y) < EPSILON and item.y_from_x(key.right.x) - key.right.y > EPSILON:\n",
    "                return CR.AFTER\n",
    "            else:\n",
    "                return CR.BEFORE\n",
    "                \n",
    "        elif abs(item.y - key.y_from_x(item.x)) < EPSILON:\n",
    "            return CR.MATCH\n",
    "        elif item.y - key.y_from_x(item.x) > EPSILON:\n",
    "            return CR.AFTER\n",
    "        else:\n",
    "            return CR.BEFORE"
   ]
  },
  {
   "cell_type": "code",
   "execution_count": null,
   "metadata": {},
   "outputs": [],
   "source": [
    "class SlabDecomposition:\n",
    "    def __init__(self, dcel: DoublyConnectedEdgeList, bounding_box: Rectangle = Rectangle(Point(0,0), Point(400, 400)), epsilon = EPSILON):\n",
    "        self._x_comparator = PointXComparator()\n",
    "        self._y_comparator = PointToLineSegmentComparator()\n",
    "        self._tree: AnimationBinaryTreeDict[Point, AnimationBinaryTreeDict[LineSegment, Face]] = AnimationBinaryTreeDict(self._x_comparator, lambda p: p)\n",
    "        self._ubounded_face = dcel.outer_face\n",
    "        self._bounding_box = bounding_box\n",
    "        self._point_sequence = PointSequence()\n",
    "\n",
    "        sorted_points = sorted(dcel.vertices, key = lambda vertex: vertex.point.x)\n",
    "        currently_crossing_edges: list[HalfEdge] = []\n",
    "        \n",
    "        iterator = iter(sorted_points)\n",
    "        next_vertex = next(iterator, None)\n",
    "\n",
    "        while next_vertex is not None:\n",
    "            vertex = next_vertex\n",
    "            next_vertex = next(iterator, None)\n",
    "\n",
    "            if vertex.outgoing_edges() == []:  # Single vertex\n",
    "                continue\n",
    "\n",
    "            currently_crossing_edges = list(filter(lambda edge: edge.right.x - vertex.x > epsilon, currently_crossing_edges))\n",
    "\n",
    "            currently_crossing_edges.extend(filter(lambda edge: edge.right.x - vertex.x > epsilon, vertex.outgoing_edges()))\n",
    "\n",
    "            if next_vertex is not None and abs(vertex.x - next_vertex.x) < epsilon:  # Same x-coordinate\n",
    "                self._point_sequence.animate(vertex.point)\n",
    "                continue\n",
    "\n",
    "            subtree = AnimationBinaryTreeDict(self._y_comparator, lambda ls: PointReference([ls.left, ls.right], 0))\n",
    "            for edge in currently_crossing_edges:\n",
    "                subtree.insert(LineSegment(edge.left, edge.right), edge.incident_face)\n",
    "\n",
    "            self._tree.insert(vertex.point, subtree)\n",
    "            self._point_sequence.append(PointReference([vertex.point, Point(vertex.point.x, self._bounding_box.lower), Point(vertex.point.x, self._bounding_box.upper)], 0))\n",
    "\n",
    "    def query(self, point: Point) -> tuple[Face, PointSequence]:\n",
    "        ps = PointSequence()\n",
    "        ps.append(point)\n",
    "        # Search in x direction for the correct slab\n",
    "        x_pred, x_ps = self._tree.search_predecessor(point)\n",
    "        ps = ps + x_ps\n",
    "        if x_pred is None:  # The search point is in the unbounded slab on the left side\n",
    "            ps.clear()\n",
    "            ps.append(point)\n",
    "            return self._ubounded_face, ps\n",
    "        else:\n",
    "            y_tree = x_pred[1]\n",
    "            # Search inside the slab for the correct face\n",
    "            y_pred, y_ps = y_tree.search_predecessor(point)\n",
    "            ps = ps + y_ps\n",
    "            if y_pred is None:  # The search point is in the unbounded slab on the right side\n",
    "                ps.clear()\n",
    "                ps.append(point)\n",
    "                return self._ubounded_face, ps\n",
    "            dcel_face = y_pred[1]\n",
    "            \n",
    "            ps.clear()\n",
    "            ps.append(point)\n",
    "            for point in dcel_face.outer_points():\n",
    "                ps.append(point)\n",
    "            return dcel_face, ps\n",
    "\n",
    "\n",
    "def build_slab_decompostion(pl: PointLocation) -> PointSequence:\n",
    "    sd = SlabDecomposition(pl._dcel)\n",
    "    return sd._point_sequence\n",
    "\n",
    "visualisation_tool.register_algorithm(\"Build Slab Decomp.\", build_slab_decompostion, VerticalExtensionMode())\n",
    "\n",
    "def slab_point_location(pl: PointLocation) -> PointSequence:\n",
    "    point = pl._dcel._last_added_vertex.point\n",
    "    point_edges = pl._dcel.find_edges_of_vertex(pl._dcel._last_added_vertex)\n",
    "    if len(point_edges) > 1 or point_edges[0].origin != point_edges[0].destination:\n",
    "        raise ValueError(f\"Point Location needs to search for a single point not connected to any other point.\")\n",
    "    face, ps = pl._search_structure.query(point)\n",
    "    return ps\n",
    "\n",
    "def slab_preprocessing(pl: PointLocation) -> PointSequence:\n",
    "    pl._search_structure = SlabDecomposition(pl._dcel)\n",
    "\n",
    "visualisation_tool.register_algorithm(\"Slab PL\", slab_point_location, PointLocationMode(), preprocessing=slab_preprocessing)\n",
    "\n",
    "\n",
    "visualisation_tool.display()"
   ]
  },
  {
   "cell_type": "markdown",
   "metadata": {},
   "source": [
    "### 3.2 Vertical Decomposition"
   ]
  }
 ],
 "metadata": {
  "kernelspec": {
   "display_name": "Python 3",
   "language": "python",
   "name": "python3"
  },
  "language_info": {
   "codemirror_mode": {
    "name": "ipython",
    "version": 3
   },
   "file_extension": ".py",
   "mimetype": "text/x-python",
   "name": "python",
   "nbconvert_exporter": "python",
   "pygments_lexer": "ipython3",
   "version": "3.11.3"
  },
  "orig_nbformat": 4
 },
 "nbformat": 4,
 "nbformat_minor": 2
}
