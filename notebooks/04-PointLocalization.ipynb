{
 "cells": [
  {
   "cell_type": "markdown",
   "metadata": {},
   "source": [
    "# 04: Point Localization"
   ]
  },
  {
   "cell_type": "markdown",
   "metadata": {},
   "source": [
    "*Authors: Lars Nitzschke, Prof. Dr. Kevin Buchin*"
   ]
  },
  {
   "cell_type": "markdown",
   "metadata": {},
   "source": [
    "This notebook serves as supplementary learning material for the course **Geometric Algorithms**.\n",
    "It showcases and explains implementations of algorithms presented in the corresponding lecture, and elaborates on some practical considerations concerning their use.\n",
    "Furthermore, it offers interactive visualisations and animations."
   ]
  },
  {
   "cell_type": "markdown",
   "metadata": {},
   "source": [
    "## Table of Contents"
   ]
  },
  {
   "cell_type": "markdown",
   "metadata": {},
   "source": [
    "1. Introduction  \n",
    "2. Setup  \n",
    "3. Algorithms  \n",
    "    3.1. Slab Decomposition  \n",
    "    3.2. Vertical Decomposition\n",
    "4. References  "
   ]
  },
  {
   "cell_type": "markdown",
   "metadata": {},
   "source": [
    "## 1. Introduction"
   ]
  },
  {
   "cell_type": "markdown",
   "metadata": {},
   "source": [
    "The **point localization problem** was stated in the lecture as follows: Preprocess a planar subdivision such that for any query point q, the face of the subdivision containing q can be given efficiently.\n",
    "\n",
    "For the **one dimensional** problem it was shown, that the problem can be solved efficiently using a balanced binary search tree.\n",
    "\n",
    "[Image with example ?]"
   ]
  },
  {
   "cell_type": "markdown",
   "metadata": {},
   "source": [
    "## 2. Setup"
   ]
  },
  {
   "cell_type": "markdown",
   "metadata": {},
   "source": [
    "First let's do some setup. This is not very interesting, so you can skip to Section 3 if you want.\n",
    "\n",
    "We now import everything we'll need throughout this notebook from external sources, including our module for generic data structures, our module for geometric primitives and operations as well as our module for visualisation purposes. \n",
    "These modules are explained in [notebook no. 00](./00-Basics.ipynb)."
   ]
  },
  {
   "cell_type": "code",
   "execution_count": 1,
   "metadata": {},
   "outputs": [],
   "source": [
    "# Python standard library imports\n",
    "import math\n",
    "from typing import Any, Optional\n",
    "from itertools import combinations\n",
    "\n",
    "# Data structure, geometry and visualisation module imports\n",
    "from modules.data_structures import BinaryTree, BinaryTreeDict, Comparator, ComparisonResult as CR, DoublyConnectedSimplePolygon, HalfEdge, DoublyConnectedEdgeList, PointLocation\n",
    "from modules.geometry import Point, PointReference, PointSequence, LineSegment, Orientation as ORT, EPSILON, Rectangle\n",
    "from modules.visualisation import VisualisationTool, PointLocationInstance, DCELInstance, SlabDecompositionMode, VerticalExtensionMode"
   ]
  },
  {
   "cell_type": "markdown",
   "metadata": {},
   "source": [
    "Additionally, we create an object for our visualisation tool and register a few example instances."
   ]
  },
  {
   "cell_type": "code",
   "execution_count": 2,
   "metadata": {},
   "outputs": [
    {
     "data": {
      "application/vnd.jupyter.widget-view+json": {
       "model_id": "52e45d69b8f34b7b8296ea01ff6ecf6f",
       "version_major": 2,
       "version_minor": 0
      },
      "text/plain": [
       "HBox(children=(VBox(children=(Output(layout=Layout(border_bottom='1px solid black', border_left='1px solid bla…"
      ]
     },
     "metadata": {},
     "output_type": "display_data"
    }
   ],
   "source": [
    "visualisation_tool = VisualisationTool(400, 400, DCELInstance(drawing_epsilon=10))\n",
    "canvas_size = min(visualisation_tool.width, visualisation_tool.height)\n",
    "\n",
    "c = 0.5 * canvas_size\n",
    "r = 0.75 * c\n",
    "s = c - r\n",
    "t = c + r\n",
    "u = (t - s) / 30\n",
    "\n",
    "points = [Point(s + 20*u, t),        Point(s + 26*u, t -  6*u), Point(s + 30*u, t -  8*u), Point(s + 28*u, t - 10*u),\n",
    "          Point(s + 18*u, t - 12*u), Point(s + 29*u, s + 14*u), Point(s + 27*u, s +  6*u), Point(s + 22*u, s +  1*u),\n",
    "          Point(s + 14*u, s +  4*u), Point(s + 10*u, s),        Point(s +  2*u, s +  5*u), Point(s + 12*u, s + 12*u),\n",
    "          Point(s +  4*u, s + 13*u), Point(s +  1*u, s + 16*u), Point(s +  3*u, t - 13*u), Point(s +  5*u, t -  4*u),\n",
    "          Point(s + 10*u, t -  1*u), Point(s + 14*u, t - 15*u), Point(s + 18*u, s +  8*u)]\n",
    "          \n",
    "edges = [(0,1), (1,2), (2,3), (3,4), (4,5), (5,6), (6,7), (7,8), (8,9), (9,10), (10,11), (11,12), (12,13), (13,14),\n",
    "         (14,15), (15,16), (16,0), (1,3), (4,16), (4,17), (12,17), (14,17), (5,11), (6,18), (10,18)]\n",
    "\n",
    "# For adding an inner component:\n",
    "#points.extend([Point(s + 16*u, t -  6*u), Point(s + 20*u, t -  2*u), Point(s + 22*u, t -  8*u)])\n",
    "#edges.extend([(19,20), (20, 21), (18,21)])\n",
    "\n",
    "dcel = DoublyConnectedEdgeList(points, edges)\n",
    "visualisation_tool.register_example_instance(\"Course Example\", dcel)\n",
    "\n",
    "visualisation_tool.display()"
   ]
  },
  {
   "cell_type": "code",
   "execution_count": 3,
   "metadata": {},
   "outputs": [
    {
     "data": {
      "application/vnd.jupyter.widget-view+json": {
       "model_id": "ebc58893f074459f88602e380af76393",
       "version_major": 2,
       "version_minor": 0
      },
      "text/plain": [
       "HBox(children=(VBox(children=(Output(layout=Layout(border_bottom='1px solid black', border_left='1px solid bla…"
      ]
     },
     "metadata": {},
     "output_type": "display_data"
    }
   ],
   "source": [
    "# visualisation_tool = VisualisationTool(400, 400, PointLocationInstance())\n",
    "# pl = PointLocation(Rectangle(Point(0, 0), Point(400, 400)), dcel)\n",
    "# visualisation_tool.register_example_instance(\"Testing example\", pl)\n",
    "\n",
    "def point_location(dcel: DoublyConnectedEdgeList) -> PointSequence:\n",
    "    pl = PointLocation(Rectangle(Point(0, 0), Point(400, 400)), dcel)\n",
    "    point_list: list[PointReference] = []\n",
    "    for line_segment in pl._vertical_decomposition.line_segments:\n",
    "        point_list.append(PointReference([line_segment.left], 0))\n",
    "        point_list.append(PointReference([line_segment.right], 0))\n",
    "\n",
    "    for trapezoid in pl._vertical_decomposition.trapezoids:\n",
    "        for point in point_list:\n",
    "            if point == trapezoid.left_point or point == trapezoid.right_point:\n",
    "                point_above = Point(point.x, trapezoid.top_line_segment.y_from_x(point.x))\n",
    "                point_below = Point(point.x, trapezoid.bottom_line_segment.y_from_x(point.x))\n",
    "                if len(point.container) == 1:\n",
    "                    point.container.append(point_above)\n",
    "                elif point.container[1].y < point_above.y:\n",
    "                    point.container[1] = point_above\n",
    "                if len(point.container) == 2:\n",
    "                    point.container.append(point_below)\n",
    "                elif point.container[2].y > point_below.y:\n",
    "                    point.container[2] = point_below\n",
    "\n",
    "    #print(point_list)\n",
    "\n",
    "    point_seq = PointSequence()\n",
    "    for point in point_list:\n",
    "        point_seq.append(point)\n",
    "    \n",
    "    return point_seq\n",
    "\n",
    "\n",
    "visualisation_tool.register_algorithm(\"Build Vert. Decomp.\", point_location, VerticalExtensionMode())\n",
    "\n",
    "visualisation_tool.display()\n",
    "\n",
    "# visualisation_tool._example_buttons[0].click()\n",
    "# visualisation_tool._algorithm_buttons[0].click()\n",
    "# visualisation_tool._random_button.click()"
   ]
  },
  {
   "cell_type": "code",
   "execution_count": null,
   "metadata": {},
   "outputs": [],
   "source": [
    "# TODO: Drawing and instance order clean up\n",
    "# TODO: Animation of VD drawings\n",
    "# TODO: Actual point localization implementation\n",
    "# TODO: Point localization animation\n",
    "# TODO: VD: Problem with vertical segements (unallowed neighbors)\n",
    "# TODO: VD-RIC\n",
    "\n",
    "# TODO: Slab decompostion\n",
    "# TODO: Slab decompostion drawings"
   ]
  },
  {
   "cell_type": "code",
   "execution_count": 4,
   "metadata": {},
   "outputs": [],
   "source": [
    "#print(\"A\")\n",
    "#visualisation_tool.handle_click_on_multi_canvas(200, 200)\n",
    "#print(\"B\")\n",
    "#visualisation_tool.handle_click_on_multi_canvas(200, 200)\n",
    "#\n",
    "#\n",
    "#print(\"C\")\n",
    "#visualisation_tool.handle_click_on_multi_canvas(100, 200)\n",
    "#print(\"D\")\n",
    "#visualisation_tool.handle_click_on_multi_canvas(100, 200)\n",
    "#\n",
    "#\n",
    "#print(\"E\")\n",
    "#visualisation_tool.handle_click_on_multi_canvas(50, 50)\n",
    "#print(\"F\")\n",
    "#visualisation_tool.handle_click_on_multi_canvas(50, 50)\n",
    "#\n",
    "#\n",
    "#print(\"G\")\n",
    "#visualisation_tool.handle_click_on_multi_canvas(200, 200)"
   ]
  },
  {
   "cell_type": "markdown",
   "metadata": {},
   "source": [
    "## 3. Algorithms"
   ]
  },
  {
   "cell_type": "markdown",
   "metadata": {},
   "source": [
    "### 3.1 Slab Decomposition"
   ]
  },
  {
   "cell_type": "code",
   "execution_count": 5,
   "metadata": {},
   "outputs": [],
   "source": [
    "class FloatComparator(Comparator[float]):\n",
    "    def compare(self, item: Any, key: float) -> CR:\n",
    "        if not isinstance(item, float):\n",
    "            raise TypeError(\"Only floats can be compared to floats\")\n",
    "        elif abs(item - key) <= EPSILON:\n",
    "            return CR.MATCH\n",
    "        elif item - key > EPSILON:\n",
    "            return CR.BEFORE\n",
    "        else:\n",
    "            return CR.AFTER\n",
    "        \n",
    "class SD_LineSegementComparator(Comparator[LineSegment]):\n",
    "    def compare(self, item: Any, key: LineSegment) -> CR:\n",
    "        if not isinstance(item, LineSegment):\n",
    "            raise TypeError(\"Only LineSegments can be compared to LineSegements\")\n",
    "        elif abs(item.lower - key.lower) <= EPSILON:\n",
    "            return CR.MATCH\n",
    "        elif item - key > EPSILON:\n",
    "            return CR.BEFORE\n",
    "        else:\n",
    "            return CR.AFTER"
   ]
  },
  {
   "cell_type": "code",
   "execution_count": 6,
   "metadata": {},
   "outputs": [],
   "source": [
    "def slab_decomposition(dcel: DoublyConnectedSimplePolygon) -> PointSequence:\n",
    "    return SlabDecomposition(dcel).do()\n",
    "\n",
    "class SlabDecomposition:\n",
    "    def __init__(self, dcel: DoublyConnectedSimplePolygon):\n",
    "        self._x_comparator = FloatComparator()\n",
    "        self._y_comparator = SD_LineSegementComparator()\n",
    "        self._data_tree: BinaryTreeDict[float, BinaryTreeDict[LineSegment, Any]] = BinaryTreeDict(self._x_comparator) #TODO: Any -> DCEL-face\n",
    "        for vertex in dcel.vertices():\n",
    "            self._data_tree.update(vertex.point.x, BinaryTreeDict(self._y_comparator))\n",
    "            for vertex in dcel.vertices():\n",
    "                edge = vertex.edge\n",
    "                cr: CR = self._comparator.compare(edge.origin.y, edge.next.origin.y)\n",
    "    def do():\n",
    "        pass"
   ]
  },
  {
   "cell_type": "code",
   "execution_count": 7,
   "metadata": {},
   "outputs": [],
   "source": [
    "visualisation_tool.register_algorithm(\"Slab Decomposition\", slab_decomposition, SlabDecompositionMode())"
   ]
  },
  {
   "cell_type": "markdown",
   "metadata": {},
   "source": [
    "### 3.2 Vertical Decomposition"
   ]
  }
 ],
 "metadata": {
  "kernelspec": {
   "display_name": "Python 3",
   "language": "python",
   "name": "python3"
  },
  "language_info": {
   "codemirror_mode": {
    "name": "ipython",
    "version": 3
   },
   "file_extension": ".py",
   "mimetype": "text/x-python",
   "name": "python",
   "nbconvert_exporter": "python",
   "pygments_lexer": "ipython3",
   "version": "3.11.3"
  },
  "orig_nbformat": 4
 },
 "nbformat": 4,
 "nbformat_minor": 2
}
