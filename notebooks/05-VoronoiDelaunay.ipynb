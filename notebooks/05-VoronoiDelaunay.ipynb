{
 "cells": [
  {
   "cell_type": "markdown",
   "metadata": {},
   "source": [
    "# 05: Delaunay Triangulation and Voronoi Diagrams"
   ]
  },
  {
   "cell_type": "markdown",
   "metadata": {},
   "source": [
    "*Authors: Lars Nitzschke, Prof. Dr. Kevin Buchin*"
   ]
  },
  {
   "cell_type": "markdown",
   "metadata": {},
   "source": [
    "This notebook serves as supplementary learning material for the course **Geometric Algorithms**.\n",
    "It showcases and explains implementations of algorithms presented in the corresponding lecture, and elaborates on some practical considerations concerning their use.\n",
    "Furthermore, it offers interactive visualisations and animations."
   ]
  },
  {
   "cell_type": "markdown",
   "metadata": {},
   "source": [
    "## Table of Contents"
   ]
  },
  {
   "cell_type": "markdown",
   "metadata": {},
   "source": [
    "1. Introduction  \n",
    "2. Setup  \n",
    "3. Data Structures    \n",
    "    3.1. Slab Decomposition  \n",
    "    3.2. Vertical Decomposition\n",
    "4. References  "
   ]
  },
  {
   "cell_type": "markdown",
   "metadata": {},
   "source": [
    "## 1. Introduction"
   ]
  },
  {
   "cell_type": "markdown",
   "metadata": {},
   "source": [
    "TODO: Introduction (Def., as statet in the lecture; explanation of the examples below)\n",
    "\n",
    "TODO: Images"
   ]
  },
  {
   "cell_type": "markdown",
   "metadata": {},
   "source": [
    "## 2. Setup"
   ]
  },
  {
   "cell_type": "markdown",
   "metadata": {},
   "source": [
    "First let's do some setup. This is not very interesting, so you can skip to Section 3 if you want.\n",
    "\n",
    "We now import everything we'll need throughout this notebook from external sources, including our module for generic data structures, our module for geometric primitives and operations as well as our module for visualisation purposes. \n",
    "These modules are explained in [notebook no. 00](./00-Basics.ipynb)."
   ]
  },
  {
   "cell_type": "code",
   "execution_count": null,
   "metadata": {},
   "outputs": [],
   "source": [
    "# Python standard library imports\n",
    "from abc import ABC, abstractmethod\n",
    "from typing import Any, Optional, Iterable\n",
    "import random\n",
    "import numpy as np\n",
    "\n",
    "# Data structure, geometry and visualisation module imports\n",
    "from modules.data_structures import Comparator, ComparisonResult as CR, Vertex, HalfEdge, DoublyConnectedEdgeList, PointLocation, Face, VDLineSegment, AnimationBinaryTreeDict, PLSearchStructure\n",
    "from modules.geometry import Point, PointReference, PointSequence, LineSegment, EPSILON, Rectangle, VerticalOrientation as VORT, HorizontalOrientation as HORT, Orientation as ORT\n",
    "from modules.visualisation import VisualisationTool, PointLocationInstance, VerticalExtensionMode, PointLocationMode, PointSetInstance, DCELInstance, DCELMode"
   ]
  },
  {
   "cell_type": "markdown",
   "metadata": {},
   "source": [
    "Additionally, we create an object for our visualisation tool and register a few example instances."
   ]
  },
  {
   "cell_type": "code",
   "execution_count": null,
   "metadata": {},
   "outputs": [],
   "source": [
    "visualisation_tool = VisualisationTool(400, 400, PointSetInstance())\n",
    "canvas_size = min(visualisation_tool.width, visualisation_tool.height)\n",
    "\n",
    "c = 0.5 * canvas_size\n",
    "r = 0.9 * c\n",
    "s = c - r\n",
    "t = c + r\n",
    "u = (t - s) / 36\n",
    "\n",
    "points = [Point(s + 20*u, t -  1*u), Point(s + 25*u, t -  6*u), Point(s + 31*u, t -  9*u), Point(s + 28*u, t - 11*u),\n",
    "          Point(s + 19*u, t - 14*u), Point(s + 30*u, t - 21*u), Point(s + 27*u, t - 29*u), Point(s + 22*u, t - 33*u),\n",
    "          Point(s + 13*u, t - 31*u), Point(s +  8*u, t - 34*u), Point(s +  2*u, t - 30*u), Point(s + 11*u, t - 24*u),\n",
    "          Point(s +  5*u, t - 22*u), Point(s +  1*u, t - 17*u), Point(s +  4*u, t - 14*u), Point(s +  6*u, t -  6*u),\n",
    "          Point(s + 10*u, t -  3*u), Point(s + 15*u, t - 17*u), Point(s + 18*u, t - 27*u)]\n",
    "\n",
    "visualisation_tool.register_example_instance(\"Example Point Set\", points)"
   ]
  },
  {
   "cell_type": "markdown",
   "metadata": {},
   "source": [
    "## 3. Algorithms"
   ]
  },
  {
   "cell_type": "markdown",
   "metadata": {},
   "source": [
    "### 3.1 Delaunay Triangulation"
   ]
  },
  {
   "cell_type": "code",
   "execution_count": null,
   "metadata": {},
   "outputs": [],
   "source": [
    "visualisation_tool.display()"
   ]
  },
  {
   "cell_type": "code",
   "execution_count": null,
   "metadata": {},
   "outputs": [],
   "source": [
    "# Construction of the Delaunay Triangulation\n",
    "class DelaunayTriangulation(DoublyConnectedEdgeList):\n",
    "    def __init__(self, points: Iterable[Point] = []):\n",
    "        self.clear()\n",
    "        # Initialize triangulation with big triangle consisting of points p_-1 = (3M, 0), p_-2 = (0, 3M), p_-3 = (-3M, -3M)\n",
    "        # where M is the max abs value of any coordinate of any point\n",
    "        self.max_coord = 0\n",
    "        for point in points:\n",
    "            if abs(point.x) > self.max_coord:\n",
    "                self.max_coord = abs(point.x)\n",
    "            if abs(point.y) > self.max_coord:\n",
    "                self.max_coord = abs(point.y)        \n",
    "        surrounding_triangle_points = [Point(3*self.max_coord, 0), Point(0, 3*self.max_coord), Point(-3*self.max_coord, -3*self.max_coord)]\n",
    "        self.surrounding_triangle = [self.add_vertex(point) for point in surrounding_triangle_points]\n",
    "        self._add_edge(self.surrounding_triangle[0], self.surrounding_triangle[1])\n",
    "        self._add_edge(self.surrounding_triangle[0], self.surrounding_triangle[2])\n",
    "        self._add_edge(self.surrounding_triangle[1], self.surrounding_triangle[2])\n",
    "        \n",
    "        # Add all other points\n",
    "        for point in points:\n",
    "            self.insert(point)\n",
    "\n",
    "    def insert(self, point: Point) -> None:\n",
    "        containing_triangle = self.find_containing_face(point)  # TODO: Replace by search structure\n",
    "        # search returns triangle if point is inside and edge if point is on it.\n",
    "        on_edge: HalfEdge = None\n",
    "        inside: bool = True\n",
    "        if inside:\n",
    "            vertex = self.add_vertex(point)  # TODO: Maybe with less checks that the point is correct?\n",
    "            # Case inside triangle:\n",
    "            surrounding_vertices = list(containing_triangle.outer_vertices())\n",
    "            if len(surrounding_vertices) != 3:\n",
    "                raise Exception(\"Face is not a triangle\")\n",
    "            edge_1 = self._add_edge(vertex, surrounding_vertices[0], return_edge = True)\n",
    "            edge_2 = self._add_edge(vertex, surrounding_vertices[1], return_edge = True)\n",
    "            edge_3 = self._add_edge(vertex, surrounding_vertices[2], return_edge = True)\n",
    "            self.legalize_edge(vertex, edge_1.next)\n",
    "            self.legalize_edge(vertex, edge_2.next)\n",
    "            self.legalize_edge(vertex, edge_3.next)\n",
    "            # TODO: Update Search Structure: split\n",
    "        else:\n",
    "            vertex = self.add_vertex_in_edge(on_edge, point)  # TODO: Maybe with less checks\n",
    "            edge_1 = self._add_edge(vertex, vertex.edge.next.destination, return_edge = True)\n",
    "            edge_2 = self._add_edge(vertex, on_edge.twin.next.destination, return_edge = True)\n",
    "            self.legalize_edge(vertex, edge_1.twin.prev)\n",
    "            self.legalize_edge(vertex, edge_1.next)\n",
    "            self.legalize_edge(vertex, edge_2.twin.prev)\n",
    "            self.legalize_edge(vertex, edge_2.next)\n",
    "            # TODO: Update Search Structure: split\n",
    "\n",
    "    def legalize_edge(self, vertex: Vertex, edge: HalfEdge) -> None:\n",
    "        opposing_vertex: Vertex = edge.twin.next.destination\n",
    "        if self.is_edge_illegal(vertex, edge, opposing_vertex):  # Edge flip\n",
    "            self.remove_edge(edge)\n",
    "            self._add_edge(vertex, opposing_vertex)  # Add flipped edge\n",
    "\n",
    "            self.legalize_edge(vertex, edge.twin.next)\n",
    "            self.legalize_edge(vertex, edge.twin.prev)\n",
    "            # TODO: Update Search Structure: flip\n",
    "\n",
    "    def is_edge_illegal(self, vertex: Vertex, edge: HalfEdge, opposing_vertex: Vertex, epsilon: float = EPSILON) -> bool:\n",
    "        # If the two opposing triangles do not form a convex quadrilateral, the edge can not be illegal. See Lemma 9.4\n",
    "        if not self._convex_quadrilateral(vertex, edge, opposing_vertex, epsilon):\n",
    "            return False      \n",
    "        # Handling special cases with the surrounding triangle of points p_0, p_-1, p_-2 TODO: Maybe check with coord comparison to 3M\n",
    "        surrounding_vertices = [v in self.surrounding_triangle for v in [edge.destination, vertex, edge.origin, opposing_vertex]]\n",
    "        if surrounding_vertices[0] and surrounding_vertices[2]:  # Case (i): We must keep the edges of the surrounding triangle\n",
    "            return False\n",
    "        count = sum(surrounding_vertices)\n",
    "        if count == 0:  # Case (ii): Normal case\n",
    "            # Lemma 9.4 [1] / Lemma 1 [lecture 05] circumcircle C around triangle <=> illegal if inside C\n",
    "            # Assume the points are counter clockwise\n",
    "            return self._in_circumcircle(vertex, edge, opposing_vertex, epsilon)\n",
    "        if count == 1:  # Case (iii): No special point should destroy actual delaunay edges: Replace edge if one of the special points\n",
    "            return surrounding_vertices[0] or surrounding_vertices[2]\n",
    "        if count == 2:  # Case (iv): One vertex of the edge and one of the other vertices\n",
    "            edge_index =  -1 - self.surrounding_triangle.index(edge.destination if surrounding_vertices[0] else edge.origin)\n",
    "            other_index = -1 - self.surrounding_triangle.index(vertex if surrounding_vertices[1] else opposing_vertex)\n",
    "            return edge_index > other_index\n",
    "        else:  # Case (v): count == 3 is impossible \n",
    "            raise ValueError(f\"Illegal edge test with wrong parameters.\")\n",
    "        \n",
    "    def _convex_quadrilateral(self, vertex: Vertex, edge: HalfEdge, opposing_vertex: Vertex, epsilon: float = EPSILON) -> bool:\n",
    "        return opposing_vertex.point.orientation(vertex.point, edge.origin.point,      epsilon) == ORT.LEFT \\\n",
    "           and opposing_vertex.point.orientation(vertex.point, edge.destination.point, epsilon) == ORT.RIGHT\n",
    "    \n",
    "    def _in_circumcircle(self, vertex: Vertex, edge: HalfEdge, opposing_vertex: Vertex, epsilon: float = EPSILON) -> bool:\n",
    "        det = np.linalg.det(np.array([[edge.destination.x, edge.destination.y, edge.destination.x*edge.destination.x + edge.destination.y*edge.destination.y, 1],\n",
    "                                      [vertex.x,           vertex.y,           vertex.x*vertex.x + vertex.y*vertex.y,                                         1],\n",
    "                                      [edge.origin.x,      edge.origin.y,      edge.origin.x*edge.origin.x + edge.origin.y*edge.origin.y,                     1],\n",
    "                                      [opposing_vertex.x,  opposing_vertex.y,  opposing_vertex.x*opposing_vertex.x + opposing_vertex.y*opposing_vertex.y,    1]]))\n",
    "        if abs(det) < epsilon:\n",
    "            det = 0\n",
    "        return det > 0\n",
    "\n",
    "random_seed = 42\n",
    "def delaunay_triangulation(points: set[Point]) -> PointSequence:\n",
    "    points: list[Point] = list(points)\n",
    "    if random_seed is not None:\n",
    "        random.seed(random_seed)\n",
    "    random.shuffle(points)  # Randomized Incremental Construction\n",
    "    triangulation: DelaunayTriangulation = DelaunayTriangulation(points)\n",
    "    raw_points_triangulation = DCELInstance.extract_points_from_raw_instance(triangulation)\n",
    "    ps = PointSequence()\n",
    "    for point in raw_points_triangulation:\n",
    "        ps.append(point)\n",
    "    return ps"
   ]
  },
  {
   "cell_type": "code",
   "execution_count": null,
   "metadata": {},
   "outputs": [],
   "source": [
    "visualisation_tool.register_algorithm(\"Delaunay\", delaunay_triangulation, DCELMode())\n",
    "visualisation_tool.display()"
   ]
  }
 ],
 "metadata": {
  "kernelspec": {
   "display_name": "Python 3",
   "language": "python",
   "name": "python3"
  },
  "language_info": {
   "codemirror_mode": {
    "name": "ipython",
    "version": 3
   },
   "file_extension": ".py",
   "mimetype": "text/x-python",
   "name": "python",
   "nbconvert_exporter": "python",
   "pygments_lexer": "ipython3",
   "version": "3.11.3"
  }
 },
 "nbformat": 4,
 "nbformat_minor": 2
}
