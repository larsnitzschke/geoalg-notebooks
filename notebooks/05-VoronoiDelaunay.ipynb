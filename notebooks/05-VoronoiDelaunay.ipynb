{
 "cells": [
  {
   "cell_type": "markdown",
   "metadata": {},
   "source": [
    "# 05: Delaunay Triangulation and Voronoi Diagrams"
   ]
  },
  {
   "cell_type": "markdown",
   "metadata": {},
   "source": [
    "*Authors: Lars Nitzschke, Prof. Dr. Kevin Buchin*"
   ]
  },
  {
   "cell_type": "markdown",
   "metadata": {},
   "source": [
    "This notebook serves as supplementary learning material for the course **Geometric Algorithms**.\n",
    "It showcases and explains implementations of algorithms presented in the corresponding lecture, and elaborates on some practical considerations concerning their use.\n",
    "Furthermore, it offers interactive visualisations and animations."
   ]
  },
  {
   "cell_type": "markdown",
   "metadata": {},
   "source": [
    "## Table of Contents"
   ]
  },
  {
   "cell_type": "markdown",
   "metadata": {},
   "source": [
    "1. Introduction  \n",
    "2. Setup  \n",
    "3. Data Structures    \n",
    "    3.1. Slab Decomposition  \n",
    "    3.2. Vertical Decomposition\n",
    "4. References  "
   ]
  },
  {
   "cell_type": "markdown",
   "metadata": {},
   "source": [
    "## 1. Introduction"
   ]
  },
  {
   "cell_type": "markdown",
   "metadata": {},
   "source": [
    "TODO: Introduction (Def., as statet in the lecture; explanation of the examples below)\n",
    "\n",
    "TODO: Images"
   ]
  },
  {
   "cell_type": "markdown",
   "metadata": {},
   "source": [
    "## 2. Setup"
   ]
  },
  {
   "cell_type": "markdown",
   "metadata": {},
   "source": [
    "First let's do some setup. This is not very interesting, so you can skip to Section 3 if you want.\n",
    "\n",
    "We now import everything we'll need throughout this notebook from external sources, including our module for generic data structures, our module for geometric primitives and operations as well as our module for visualisation purposes. \n",
    "These modules are explained in [notebook no. 00](./00-Basics.ipynb)."
   ]
  },
  {
   "cell_type": "code",
   "execution_count": null,
   "metadata": {},
   "outputs": [],
   "source": [
    "# Python standard library imports\n",
    "from abc import ABC, abstractmethod\n",
    "from typing import Any, Optional, Iterable\n",
    "import random\n",
    "\n",
    "# Data structure, geometry and visualisation module imports\n",
    "from modules.data_structures import Comparator, ComparisonResult as CR, Vertex, HalfEdge, DoublyConnectedEdgeList, PointLocation, Face, VDLineSegment, AnimationBinaryTreeDict, PLSearchStructure\n",
    "from modules.geometry import Point, PointReference, PointSequence, LineSegment, EPSILON, Rectangle, VerticalOrientation as VORT, HorizontalOrientation as HORT\n",
    "from modules.visualisation import VisualisationTool, PointLocationInstance, VerticalExtensionMode, PointLocationMode, PointSetInstance"
   ]
  },
  {
   "cell_type": "markdown",
   "metadata": {},
   "source": [
    "Additionally, we create an object for our visualisation tool and register a few example instances."
   ]
  },
  {
   "cell_type": "code",
   "execution_count": null,
   "metadata": {},
   "outputs": [],
   "source": [
    "visualisation_tool = VisualisationTool(400, 400, PointSetInstance())\n",
    "canvas_size = min(visualisation_tool.width, visualisation_tool.height)\n",
    "\n",
    "c = 0.5 * canvas_size\n",
    "r = 0.9 * c\n",
    "s = c - r\n",
    "t = c + r\n",
    "u = (t - s) / 36\n",
    "\n",
    "points = [Point(s + 20*u, t -  1*u), Point(s + 25*u, t -  6*u), Point(s + 31*u, t -  9*u), Point(s + 28*u, t - 11*u),\n",
    "          Point(s + 19*u, t - 14*u), Point(s + 30*u, t - 21*u), Point(s + 27*u, t - 29*u), Point(s + 22*u, t - 33*u),\n",
    "          Point(s + 13*u, t - 31*u), Point(s +  8*u, t - 34*u), Point(s +  2*u, t - 30*u), Point(s + 11*u, t - 24*u),\n",
    "          Point(s +  5*u, t - 22*u), Point(s +  1*u, t - 17*u), Point(s +  4*u, t - 14*u), Point(s +  6*u, t -  6*u),\n",
    "          Point(s + 10*u, t -  3*u), Point(s + 15*u, t - 17*u), Point(s + 18*u, t - 27*u)]\n",
    "\n",
    "visualisation_tool.register_example_instance(\"Example Point Set\", points)"
   ]
  },
  {
   "cell_type": "markdown",
   "metadata": {},
   "source": [
    "## 3. Algorithms"
   ]
  },
  {
   "cell_type": "markdown",
   "metadata": {},
   "source": [
    "### 3.1 Delaunay Triangulation"
   ]
  },
  {
   "cell_type": "code",
   "execution_count": null,
   "metadata": {},
   "outputs": [],
   "source": [
    "visualisation_tool.display()"
   ]
  },
  {
   "cell_type": "code",
   "execution_count": null,
   "metadata": {},
   "outputs": [],
   "source": [
    "# Construction of the Delaunay Triangulation\n",
    "class DelaunayTriangulation(DoublyConnectedEdgeList):\n",
    "    def __init__(self, points: Iterable[Point] = [], edges: Iterable[tuple[int, int]] = []):\n",
    "        super().__init__(points, edges)\n",
    "\n",
    "    def insert(self, point: Point) -> None:\n",
    "        containing_triangle = self.find_containing_face(point)  # TODO: Replace by search structure\n",
    "        # search returns triangle if point is inside and edge if point is on it.\n",
    "        on_edge: HalfEdge = None\n",
    "        inside: bool = True\n",
    "        if inside:\n",
    "            vertex = super().add_vertex(point)  # TODO: Maybe with less checks that the point is correct?\n",
    "            # Case inside triangle:\n",
    "            surrounding_vertices = list(containing_triangle.outer_vertices())\n",
    "            if len(surrounding_vertices != 3):\n",
    "                raise Exception(\"Face is not a triangle\")\n",
    "            self._add_edge(vertex, surrounding_vertices[0])\n",
    "            self._add_edge(vertex, surrounding_vertices[1])\n",
    "            self._add_edge(vertex, surrounding_vertices[2])\n",
    "            #self.legalize_edge(vertex, 0)\n",
    "            #self.legalize_edge(vertex, 1)\n",
    "            #self.legalize_edge(vertex, 2)\n",
    "            # TODO: Update Search Structure: split\n",
    "        else:\n",
    "            vertex = super().add_vertex_in_edge(on_edge, point)\n",
    "            # TODO: Case point on edge \n",
    "            #self.add_edge_by_points(point, p_l)  # points p_l, p_k from edge that point is on\n",
    "            #self.add_edge_by_points(point, p_k)\n",
    "            #self.legalize_edge(point, 0)\n",
    "            #self.legalize_edge(point, 1)\n",
    "            #self.legalize_edge(point, 2)\n",
    "            #self.legalize_edge(point, 3)\n",
    "            pass\n",
    "\n",
    "    def legalize_edge(self, vertex: Vertex, edge: HalfEdge) -> None:\n",
    "        if self.is_edge_illegal(edge):  # Edge flip\n",
    "            opposing_vertex: Vertex = edge.twin.next.destination\n",
    "            # TODO: Remove \"edge\"\n",
    "            self._add_edge(vertex, opposing_vertex.point)  # Add flipped edge\n",
    "            # TODO: Update Search Structure: flip\n",
    "\n",
    "            self.legalize_edge(vertex, edge.twin.next)\n",
    "            self.legalize_edge(vertex, edge.twin.prev)\n",
    "\n",
    "    def is_edge_illegal(self, edge) -> bool: # TODO\n",
    "        # TODO: Use description in [1, section 9.3] at the end for points p_0, p_-1, p_-2 (Check these special points by coordinates =abs(3M))\n",
    "        # Otherwise: Lemma 9.4 [1] / Lemma 1 [lecture 05] circumcircle C around triangle <=> illegal if inside C\n",
    "        return True\n",
    "\n",
    "random_seed = 42\n",
    "def delaunay_triangulation(points: set[Point]) -> PointSequence:\n",
    "    points: list[Point] = list(points)\n",
    "    if random_seed is not None:\n",
    "        random.seed(random_seed)\n",
    "    random.shuffle(points)  # Randomized Incremental Construction\n",
    "    triangulation: DelaunayTriangulation = DelaunayTriangulation()\n",
    "\n",
    "    # TODO: initialize triangulation with points p_0 = (3M, 0), p_-1 = (0, 3M), p_-2 = (-3M, -3M)\n",
    "    # where M is the max abs value of any coordinate of any point\n",
    "\n",
    "    # TODO: initialize search structure with initial triangle p_0p_-1p_-2\n",
    "\n",
    "    for point in points:\n",
    "        triangulation.insert(point)\n"
   ]
  }
 ],
 "metadata": {
  "kernelspec": {
   "display_name": "Python 3",
   "language": "python",
   "name": "python3"
  },
  "language_info": {
   "codemirror_mode": {
    "name": "ipython",
    "version": 3
   },
   "file_extension": ".py",
   "mimetype": "text/x-python",
   "name": "python",
   "nbconvert_exporter": "python",
   "pygments_lexer": "ipython3",
   "version": "3.11.3"
  }
 },
 "nbformat": 4,
 "nbformat_minor": 2
}
