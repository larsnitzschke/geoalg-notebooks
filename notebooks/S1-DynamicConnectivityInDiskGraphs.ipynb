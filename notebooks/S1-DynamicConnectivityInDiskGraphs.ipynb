{
 "cells": [
  {
   "cell_type": "markdown",
   "metadata": {},
   "source": [
    "# S1: Insertion-Only Dynamic Connectivity in General Disk Graphs\\[1\\]"
   ]
  },
  {
   "cell_type": "markdown",
   "metadata": {},
   "source": [
    "*Author: Lars Nitzschke* "
   ]
  },
  {
   "cell_type": "markdown",
   "metadata": {},
   "source": [
    "This notebook is part of the work in the seminar **Seminar on Algorithms**. More precisely it implements the algorithms and data structure discussed in the paper **\"Insertion-Only Dynamic Connectivity in General Disk Graphs\"** by Kaplan et al.[1]\n",
    "The notebook offers interactive visualisations and animations."
   ]
  },
  {
   "cell_type": "markdown",
   "metadata": {},
   "source": [
    "## Table of Contents"
   ]
  },
  {
   "cell_type": "markdown",
   "metadata": {},
   "source": [
    "1. Introduction\n",
    "1. Setup\n",
    "1. Implementation\n",
    "1. References  "
   ]
  },
  {
   "cell_type": "markdown",
   "metadata": {},
   "source": [
    "## 1. Introduction"
   ]
  },
  {
   "cell_type": "markdown",
   "metadata": {},
   "source": [
    "## 2. Setup"
   ]
  },
  {
   "cell_type": "markdown",
   "metadata": {},
   "source": [
    "First let's do some setup. This is not very interesting, so you can skip to Section 3 if you want.\n",
    "\n",
    "We now import everything we'll need throughout this notebook from external sources, including our module for generic data structures, our module for geometric primitives and operations as well as our module for visualisation purposes. \n",
    "These modules are explained in [notebook no. 00](./00-Basics.ipynb)."
   ]
  },
  {
   "cell_type": "code",
   "execution_count": 19,
   "metadata": {},
   "outputs": [],
   "source": [
    "# Python standard library imports\n",
    "from abc import ABC, abstractmethod\n",
    "from typing import Any, Optional, Iterable\n",
    "import random\n",
    "\n",
    "# Data structure, geometry and visualisation module imports\n",
    "from modules.data_structures import Comparator, ComparisonResult as CR, HalfEdge, DoublyConnectedEdgeList, PointLocation, Face, VDLineSegment, AnimationBinaryTreeDict, PLSearchStructure\n",
    "from modules.geometry import Point, PointReference, PointSequence, LineSegment, EPSILON, Rectangle, VerticalOrientation as VORT, HorizontalOrientation as HORT\n",
    "from modules.visualisation import VisualisationTool, PointLocationInstance, VerticalExtensionMode, PointLocationMode, DiskMode, DiskSetInstance, LineSegmentsMode\n",
    "from modules.geometry import Disk\n",
    "from modules.data_structures import DisjointSet, ComponentTree"
   ]
  },
  {
   "cell_type": "markdown",
   "metadata": {},
   "source": [
    "Additionally, we create an object for our visualisation tool. <!-- and register a few example instances.-->"
   ]
  },
  {
   "cell_type": "code",
   "execution_count": 20,
   "metadata": {},
   "outputs": [],
   "source": [
    "visualisation_tool = VisualisationTool(400, 400, DiskSetInstance())\n",
    "canvas_size = min(visualisation_tool.width, visualisation_tool.height)"
   ]
  },
  {
   "cell_type": "markdown",
   "metadata": {},
   "source": [
    "## 3. Implementation"
   ]
  },
  {
   "cell_type": "code",
   "execution_count": null,
   "metadata": {},
   "outputs": [
    {
     "data": {
      "application/vnd.jupyter.widget-view+json": {
       "model_id": "1a646567999346cba5eb587f1b5b66d8",
       "version_major": 2,
       "version_minor": 0
      },
      "text/plain": [
       "HBox(children=(VBox(children=(Output(layout=Layout(border_bottom='1px solid black', border_left='1px solid bla…"
      ]
     },
     "metadata": {},
     "output_type": "display_data"
    }
   ],
   "source": [
    "def naive_connectivity(disk_set: set[Disk]) -> PointSequence:\n",
    "    point_seq = PointSequence()\n",
    "    for disk in disk_set:\n",
    "        for other_disk in disk_set:\n",
    "            if disk == other_disk:\n",
    "                continue\n",
    "            if disk.intersects(other_disk):\n",
    "                point_seq.append(disk.center_point)\n",
    "                point_seq.append(other_disk.center_point)\n",
    "    return point_seq\n",
    "\n",
    "def disjoint_set_connectivity(disk_set: set[Disk]) -> PointSequence:\n",
    "    point_seq = PointSequence()\n",
    "    disjoint_set = DisjointSet[Disk]()\n",
    "    for disk in disk_set:\n",
    "        disjoint_set.make_set(disk)\n",
    "    for disk in disk_set:\n",
    "        for other_disk in disk_set:\n",
    "            if disk == other_disk:\n",
    "                continue\n",
    "            if disk.intersects(other_disk):\n",
    "                #if disjoint_set.find(disk) != disjoint_set.find(other_disk):\n",
    "                    disjoint_set.union(disk, other_disk)\n",
    "                    #point_seq.append(disk.center_point)\n",
    "                    #point_seq.append(other_disk.center_point)\n",
    "    return point_seq\n",
    "\n",
    "def component_tree_connectivity(disk_set: set[Disk]) -> PointSequence:\n",
    "    point_seq = PointSequence()\n",
    "    component_tree = ComponentTree()\n",
    "    disjoint_set = DisjointSet[Disk]()\n",
    "    for disk in disk_set:\n",
    "        disjoint_set.make_set(disk)\n",
    "        connected_components = component_tree.query(disk)\n",
    "        # merge all connected components\n",
    "        for connected_component in connected_components:\n",
    "            disjoint_set.union(disk, connected_component[0])   \n",
    "        component_tree.insert_disk(disk)\n",
    "        #component_tree.verify_tree()\n",
    "\n",
    "    #for disk in disk_set:\n",
    "    #    for other_disk in disk_set:\n",
    "    #        if disk == other_disk:\n",
    "    #            continue\n",
    "    #        if disjoint_set.in_same_set(disk, other_disk):\n",
    "    #            if disk.intersects(other_disk):\n",
    "    #                point_seq.append(disk.center_point)\n",
    "    #                point_seq.append(other_disk.center_point)\n",
    "\n",
    "    return point_seq\n",
    "\n",
    "                \n",
    "\n",
    "visualisation_tool.register_algorithm(\"Naive Connectivity\", naive_connectivity, LineSegmentsMode(vertex_radius = 0, highlight_radius = 0))\n",
    "visualisation_tool.register_algorithm(\"Disjoint Set Connectivity\", disjoint_set_connectivity, LineSegmentsMode(vertex_radius = 0, highlight_radius = 0))\n",
    "visualisation_tool.register_algorithm(\"Component Tree Connectivity\", component_tree_connectivity, LineSegmentsMode(vertex_radius = 0, highlight_radius = 0))\n",
    "visualisation_tool.display()"
   ]
  },
  {
   "cell_type": "code",
   "execution_count": 22,
   "metadata": {},
   "outputs": [],
   "source": [
    "visualisation_tool._algorithm_buttons[2].click()"
   ]
  },
  {
   "cell_type": "code",
   "execution_count": 23,
   "metadata": {},
   "outputs": [],
   "source": [
    "visualisation_tool._random_button.click()"
   ]
  },
  {
   "cell_type": "code",
   "execution_count": 24,
   "metadata": {},
   "outputs": [
    {
     "name": "stdout",
     "output_type": "stream",
     "text": [
      "10\n",
      "{((280.51771948607353, 330.6576058031348) -r- 40.0), ((22.098139686624663, 227.66610110464458) -r- 40.0), ((179.3188930231671, 192.48784100925172) -r- 40.0), ((73.35917709274933, 252.77956692180913) -r- 40.0), ((62.27067649523179, 256.0528486414196) -r- 39.99999999999999), ((101.03215204472679, 72.14330749873773) -r- 40.0), ((262.08340518500245, 301.2307999061042) -r- 40.0), ((282.93870576322144, 215.42733685523916) -r- 40.0), ((178.2645762391603, 112.44212574522037) -r- 40.0), ((45.03958935142349, 47.55373895410734) -r- 40.0)}\n"
     ]
    }
   ],
   "source": [
    "print(visualisation_tool._instance._instance.__len__())\n",
    "print(visualisation_tool._instance._instance)"
   ]
  },
  {
   "cell_type": "markdown",
   "metadata": {},
   "source": [
    "## 4. References"
   ]
  },
  {
   "cell_type": "markdown",
   "metadata": {},
   "source": [
    "\\[1\\] Haim Kaplan and Katharina Klost and Kristin Knorr and Wolfgang Mulzer and Liam Roditty. **Insertion-Only Dynamic Connectivity in General Disk Graphs.**, in 2024 Symposium on Simplicity in Algorithms (SOSA), doi: 10.1137/1.9781611977936.27"
   ]
  }
 ],
 "metadata": {
  "kernelspec": {
   "display_name": "Python 3",
   "language": "python",
   "name": "python3"
  },
  "language_info": {
   "codemirror_mode": {
    "name": "ipython",
    "version": 3
   },
   "file_extension": ".py",
   "mimetype": "text/x-python",
   "name": "python",
   "nbconvert_exporter": "python",
   "pygments_lexer": "ipython3",
   "version": "3.11.3"
  },
  "orig_nbformat": 4
 },
 "nbformat": 4,
 "nbformat_minor": 2
}
