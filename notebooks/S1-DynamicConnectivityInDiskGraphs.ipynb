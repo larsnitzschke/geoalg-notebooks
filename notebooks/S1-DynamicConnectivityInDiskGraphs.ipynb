{
 "cells": [
  {
   "cell_type": "markdown",
   "metadata": {},
   "source": [
    "# S1: Insertion-Only Dynamic Connectivity in General Disk Graphs\\[1\\]"
   ]
  },
  {
   "cell_type": "markdown",
   "metadata": {},
   "source": [
    "*Author: Lars Nitzschke* "
   ]
  },
  {
   "cell_type": "markdown",
   "metadata": {},
   "source": [
    "This notebook is part of the work in the seminar **Seminar on Algorithms**. More precisely it implements the algorithms and data structure discussed in the paper **\"Insertion-Only Dynamic Connectivity in General Disk Graphs\"** by Kaplan et al.[1]\n",
    "The notebook offers interactive visualisations and animations."
   ]
  },
  {
   "cell_type": "markdown",
   "metadata": {},
   "source": [
    "## Table of Contents"
   ]
  },
  {
   "cell_type": "markdown",
   "metadata": {},
   "source": [
    "1. Introduction\n",
    "1. Setup\n",
    "1. Implementation\n",
    "1. References  "
   ]
  },
  {
   "cell_type": "markdown",
   "metadata": {},
   "source": [
    "## 1. Introduction"
   ]
  },
  {
   "cell_type": "markdown",
   "metadata": {},
   "source": [
    "This notebook implements and presents the approach by Kaplan et al. [1] They give a solution to the following problem: Given a set $S \\subseteq \\mathbb{R}^2$ of $n$ sites in a plane, where every site $s\\in S$ has an associated radius $r_s > 0$, be $\\mathcal{D}(S)$ the disk intersection graph. Its vertices are the sites $s\\in S$ and there exists an edge between two sites $s,t$, iff the two disks at $s,t$ with radii $r_s, r_t$ intersect. A connectivity query then asks whether two given disks are in the same connected component.\n",
    "\n",
    "The presented approach requires $O(\\log^6 n)$ expected amortized time for adding a new disk and $O(\\alpha(n))$ amortized time querying the connected component for a given disk. For that they introduce a new data structure, the component tree $\\mathcal{T}_C$ and the insertion algorithm for adding a new disk to the tree. Both are presented in section 3 of this notebook.\n",
    "\n",
    "The detailed describtion of the algorithms can be found in the paper itself and the report on it written for the seminar."
   ]
  },
  {
   "cell_type": "markdown",
   "metadata": {},
   "source": [
    "## 2. Setup"
   ]
  },
  {
   "cell_type": "markdown",
   "metadata": {},
   "source": [
    "First let's do some setup. This is not very interesting, so you can skip to Section 3 if you want.\n",
    "\n",
    "We now import everything we'll need throughout this notebook from external sources, including our module for generic data structures, our module for geometric primitives and operations as well as our module for visualisation purposes. \n",
    "These modules are explained in [notebook no. 00](./00-Basics.ipynb)."
   ]
  },
  {
   "cell_type": "code",
   "execution_count": 1,
   "metadata": {},
   "outputs": [],
   "source": [
    "# Python standard library imports\n",
    "from abc import ABC, abstractmethod\n",
    "from typing import Any, Optional, Iterable\n",
    "import random\n",
    "\n",
    "# Data structure, geometry and visualisation module imports\n",
    "from modules.data_structures import Comparator, ComparisonResult as CR, HalfEdge, DoublyConnectedEdgeList, PointLocation, Face, VDLineSegment, AnimationBinaryTreeDict, PLSearchStructure\n",
    "from modules.geometry import Point, PointReference, PointSequence, LineSegment, EPSILON, Rectangle, VerticalOrientation as VORT, HorizontalOrientation as HORT\n",
    "from modules.visualisation import VisualisationTool, PointLocationInstance, VerticalExtensionMode, PointLocationMode, DiskMode, DiskSetInstance, LineSegmentsMode, DiskConnectivityInstance\n",
    "from modules.geometry import Disk\n",
    "from modules.data_structures import DisjointSet, ComponentTree, DiskConnectivity\n",
    "from pyquadtree import QuadTree\n",
    "\n",
    "Component = list[Disk]"
   ]
  },
  {
   "cell_type": "markdown",
   "metadata": {},
   "source": [
    "Additionally, we create an object for our visualisation tool. <!-- and register a few example instances.-->"
   ]
  },
  {
   "cell_type": "code",
   "execution_count": 2,
   "metadata": {},
   "outputs": [],
   "source": [
    "visualisation_tool = VisualisationTool(400, 400, DiskConnectivityInstance())\n",
    "canvas_size = min(visualisation_tool.width, visualisation_tool.height)"
   ]
  },
  {
   "cell_type": "markdown",
   "metadata": {},
   "source": [
    "## 3. Implementation\n",
    "\n",
    "In this section the approach of Kaplan et al. [1] is implemented."
   ]
  },
  {
   "cell_type": "markdown",
   "metadata": {},
   "source": [
    "### 3.1 Data Structure and insertion algorithm\n",
    "\n",
    "We start with the data structure, the component tree $\\mathcal{T}_C$. The full implementation can be found in the module `data_structures.component_tree`. Here we look at the interesting parts of the implementation. The \"_\" at the end of the class names is for differentiating from the acutal implementation.\n",
    "\n",
    "The component tree consisits of two parts. Firstly, the root node. The tree is build from those nodes which are implemented on the bottom. Secondly, the leaf queue, holding all empty leafs."
   ]
  },
  {
   "cell_type": "code",
   "execution_count": 3,
   "metadata": {},
   "outputs": [],
   "source": [
    "class ComponentTreeNode_:\n",
    "    def __init__(self):\n",
    "        self._component: Optional[list[Disk]] = None  # None for every node but the leaves\n",
    "        self._awnn = QuadTree(bbox=(0, 0, 1000, 1000))\n",
    "        self._left: Optional[ComponentTreeNode_] = None\n",
    "        self._right: Optional[ComponentTreeNode_] = None\n",
    "        self._parent: Optional[ComponentTreeNode_] = None\n",
    "        self._level: int = 0\n",
    "    \n",
    "    def query_intersected(self, disk: Disk):\n",
    "        if self.is_leaf():\n",
    "            return [self]\n",
    "        intersected: list[ComponentTreeNode_] = []\n",
    "        # Left\n",
    "        left_nearest = self._left._awnn.nearest_neighbors(disk.center_point.as_tuple())\n",
    "        left_nearest = left_nearest[0] if left_nearest != [] else None\n",
    "        if left_nearest is not None and disk.center_point.distance(left_nearest.item.center_point) <= disk.radius + left_nearest.item.radius:\n",
    "            # If result not empty recurse into the child.\n",
    "            intersected.extend(self._left.query_intersected(disk))\n",
    "        # Right\n",
    "        right_nearest = self._right._awnn.nearest_neighbors(disk.center_point.as_tuple())\n",
    "        right_nearest = right_nearest[0] if right_nearest != [] else None\n",
    "        if right_nearest is not None and disk.center_point.distance(right_nearest.item.center_point) <= disk.radius + right_nearest.item.radius:\n",
    "            intersected.extend(self._right.query_intersected(disk))\n",
    "\n",
    "        return intersected"
   ]
  },
  {
   "cell_type": "markdown",
   "metadata": {},
   "source": [
    "The AWNNs are realised with a quadtree, which is capable of efficienty nearest neighbor queries. However, it cannot do weighted nearest neighbors as necessary for general disks. Thats why this implementation only works on unit disks. To complete it to solve the actual problem, one would only need to exchange this data structure.\n",
    "\n",
    "The interesting part for the nodes is the querying algorithm. As described in the paper, the query works like this:\n",
    "- If a leaf is reached, that leaf is returned. The reason why the leaf itself is returned and not the stored component is that during insertion the algorithm needs to traverse the tree starting from the leaf.\n",
    "- Otherwise, both the left and right subtree's AWNNs are queried for the closest neighbor. If either intersects the querying disk, the procedure recurses into the respective child. Results are collected in a list and returned."
   ]
  },
  {
   "cell_type": "code",
   "execution_count": 4,
   "metadata": {},
   "outputs": [],
   "source": [
    "class ComponentTree_:\n",
    "    def __init__(self):\n",
    "        self._root = ComponentTreeNode_()\n",
    "        self._leafQueue = [self._root]\n",
    "\n",
    "    def insert_component(self, component: list[Disk]):\n",
    "        # 1 Get Leaf\n",
    "        if self._leafQueue == []:\n",
    "            # Double the size of the tree\n",
    "            new_node = ComponentTreeNode_()\n",
    "            new_node.set_left_child(self._root)\n",
    "            new_node.set_right_child(self._full_sub_tree(depth = self._root._level + 1))\n",
    "            new_node._level = self._root._level + 1\n",
    "            for disk_element in self._root._awnn.get_all_elements():\n",
    "                new_node._awnn.add(disk_element.item, disk_element.point)\n",
    "            self._root = new_node\n",
    "        leaf: ComponentTreeNode_ = self._leafQueue.pop(0)\n",
    "\n",
    "        # 2 Insert component into the leaf\n",
    "        leaf._component = component            \n",
    "        for disk in component:\n",
    "            leaf._awnn.add(disk, disk.center_point.as_tuple())\n",
    "\n",
    "        # Update awnns on the path to the root\n",
    "        current_node: ComponentTreeNode_ = leaf\n",
    "        while current_node._parent is not None:\n",
    "            current_node = current_node._parent\n",
    "            for disk in component:\n",
    "                current_node._awnn.add(disk, disk.center_point.as_tuple())\n",
    "\n",
    "    def query(self, disk: Disk) -> list[Component]:\n",
    "        return [node._component for node in self.query_nodes(disk)]\n",
    "\n",
    "    def query_nodes(self, disk: Disk):\n",
    "        # Query root\n",
    "        nearest = self._root._awnn.nearest_neighbors(disk.center_point.as_tuple())\n",
    "        if len(nearest) == 0:\n",
    "            return []  # No intersected components\n",
    "        nearest = nearest[0]\n",
    "        if disk.center_point.distance(nearest.item.center_point) > disk.radius + nearest.item.radius:\n",
    "            return []  # No intersected components\n",
    "        return self._root.query_intersected(disk)\n",
    "\n",
    "    \n",
    "    def insert_disk(self, disk: Disk):\n",
    "        intersected_component_leafs = self.query_nodes(disk)\n",
    "        if intersected_component_leafs == []:\n",
    "            # Insert singleton component\n",
    "            self.insert_component([disk])\n",
    "        else:\n",
    "            # find largest component and insert component\n",
    "            largest_component_leaf: ComponentTreeNode_ = max(intersected_component_leafs, key=lambda node: len(node._component))\n",
    "            largest_component_leaf._component.append(disk)\n",
    "            largest_component_leaf._awnn.add(disk, disk.center_point.as_tuple())\n",
    "\n",
    "            # Update awnns on the path to the root\n",
    "            current_node: ComponentTreeNode_ = largest_component_leaf\n",
    "            while current_node._parent is not None:\n",
    "                current_node = current_node._parent\n",
    "                current_node._awnn.add(disk, disk.center_point.as_tuple())\n",
    "\n",
    "            # if more than one intersected component: clean-up step\n",
    "            if len(intersected_component_leafs) > 1:\n",
    "                # for every component but the largest one, find lca and update awnns on the path up and down \n",
    "                for component_node in intersected_component_leafs:\n",
    "                    if component_node is largest_component_leaf:\n",
    "                        continue\n",
    "                    for site in component_node._component:\n",
    "                        largest_component_leaf._component.append(site)\n",
    "                    # Start with both nodes (largest component and the other intersected one)\n",
    "                    # they are always at the same level, as we start at leafs of a full tree.\n",
    "                    node_l, node_o = largest_component_leaf, component_node\n",
    "                    while node_l is not node_o: # while not at the same node (lca), update both: insertions and deletions \n",
    "                        for component_disk in component_node._component:\n",
    "                            node_l._awnn.add(component_disk, component_disk.center_point.as_tuple())\n",
    "                            node_o._awnn.delete(component_disk)\n",
    "                        node_l = node_l._parent\n",
    "                        node_o = node_o._parent\n",
    "\n",
    "                    # empty the other node\n",
    "                    component_node._component = None\n",
    "                    self._leafQueue.append(component_node)"
   ]
  },
  {
   "cell_type": "markdown",
   "metadata": {},
   "source": [
    "From the nodes the tree is built in the class `ComponentTree_`. In here is also where the algorithm for inserting a new disk is implemented.\n",
    "\n",
    "As in the paper the simple case is inserting a new component, which is implemented in lines 6-29. It starts by checking whether there is an available leaf and if necessary increases the tree size (lines 6-17). The component is simply inserted into the first available leaf and also all sites are inserted into the AWNN of the leaf (lines 20-22).\n",
    "Finally the AWNNs on the path to the root are updated by traversing the tree using the `_parent` node references.\n",
    "\n",
    "Querying just returns all components of the leafs returned from the already discussed procedure.\n",
    "\n",
    "It remains to look at the implementation of inserting a disk. It starts by checking if it is a singleton component and if so inserts it that way (lines 47-49). Otherwise the new disk is inserted into the largest one of the intersected components (lines 51-54). The AWNNs are updated acordingly, similar to inserting a full component (lines 57-60). Afterwards the clean-up step is performed. The sites are moved to the largest one from the other component (lines 68-69 and 81-82). Then the same is done on the path to their lowest common anchestor (lines 72-78). The loop has a reference to both nodes. As the tree is complete, the nodes are always on the same level and traversing upwards can be done simultaneously."
   ]
  },
  {
   "cell_type": "markdown",
   "metadata": {},
   "source": [
    "### 3.2 Full insertion algorithm and dynamic connectivity\n",
    "\n",
    "It remains to put the insertion component tree together with the disjoint set data structure. We start with a simple (inefficient) connectivity, that checks all intersections and stores them in the data structure `data_structures.disjoint_set`."
   ]
  },
  {
   "cell_type": "code",
   "execution_count": 5,
   "metadata": {},
   "outputs": [],
   "source": [
    "def disjoint_set_connectivity(disk_instance: DiskConnectivity) -> PointSequence:\n",
    "    disk_set = disk_instance._disk_set\n",
    "    point_seq = PointSequence()  # Only for visualisation\n",
    "    disjoint_set = DisjointSet[Disk]()\n",
    "    for disk in disk_set:\n",
    "        disjoint_set.make_set(disk)\n",
    "    for disk in disk_set:\n",
    "        point_seq.append(PointReference([disk.center_point, Point(disk.center_point.x + disk.radius, disk.center_point.y)], 0, disk.label))\n",
    "        for other_disk in disk_set:\n",
    "            point_seq.animate(PointReference([other_disk.center_point, Point(other_disk.center_point.x + other_disk.radius, other_disk.center_point.y)], 0, other_disk.label))\n",
    "            if disk == other_disk:\n",
    "                continue\n",
    "            if disk.intersects(other_disk):\n",
    "                disjoint_set.union(disk, other_disk)\n",
    "        point_seq.pop()\n",
    "    return point_seq\n",
    "\n",
    "visualisation_tool.register_algorithm(\"Disjoint Set Connectivity\", disjoint_set_connectivity, LineSegmentsMode(vertex_radius = 0, highlight_radius = 0))"
   ]
  },
  {
   "cell_type": "markdown",
   "metadata": {},
   "source": [
    "For every disk, a set is created and then all pairs of disks are checked for intersection. If they do intersect, they are unioned into the same set. The set could now be used to query whether two disks are in the same component, by querying the representative each. If it is the same, they are in the same component."
   ]
  },
  {
   "cell_type": "code",
   "execution_count": null,
   "metadata": {},
   "outputs": [],
   "source": [
    "def component_tree_connectivity(disk_instance: DiskConnectivity) -> PointSequence:\n",
    "    point_seq = PointSequence()\n",
    "    disk_instance._component_tree = ComponentTree()  #Actual implementation of the component tree\n",
    "    disjoint_set = DisjointSet[Disk]()\n",
    "    disk_list = list(disk_instance._disk_set)\n",
    "    if len(disk_list) == 0:\n",
    "        return point_seq\n",
    "    disk_instance._excluded_disk = disk_list[0] \n",
    "    disks_to_add = disk_list[1:]\n",
    "    for disk in disks_to_add:\n",
    "        disjoint_set.make_set(disk)\n",
    "        connected_components = disk_instance._component_tree.query(disk)\n",
    "        for connected_component in connected_components:  # merge all connected components\n",
    "            disjoint_set.union(disk, connected_component[0])   \n",
    "        disk_instance._component_tree.insert_disk(disk)\n",
    "\n",
    "    visualisation_tool._tree_ui_1.value = disk_instance._component_tree.html()\n",
    "    return point_seq\n",
    "\n",
    "def component_tree_add_disk(disk_instance: DiskConnectivity) -> PointSequence:\n",
    "    point_seq = PointSequence()\n",
    "    if len(disk_instance._disk_set) == 0:\n",
    "        return point_seq\n",
    "    point_seq.append(PointReference([disk_instance._excluded_disk.center_point, Point(disk_instance._excluded_disk.center_point.x + disk_instance._excluded_disk.radius, disk_instance._excluded_disk.center_point.y)], 0, disk_instance._excluded_disk.label))\n",
    "    disk_instance._disjoint_set.make_set(disk_instance._excluded_disk)\n",
    "    connected_components = disk_instance._component_tree.query(disk_instance._excluded_disk)\n",
    "    for connected_component in connected_components:  # merge all connected components\n",
    "        disk_instance._disjoint_set.union(disk_instance._excluded_disk, connected_component[0])\n",
    "        point_seq.animate(PointReference([connected_component[0].center_point, connected_component[0].center_point], 0, connected_component[0].label))\n",
    "    disk_instance._component_tree.insert_disk(disk_instance._excluded_disk)\n",
    "    disk_instance._excluded_disk = None\n",
    "    visualisation_tool._tree_ui_2.value = disk_instance._component_tree.html()\n",
    "    return point_seq\n",
    "    \n",
    "\n",
    "\n",
    "visualisation_tool.register_algorithm(\"Component Tree Connectivity\", component_tree_connectivity, LineSegmentsMode(vertex_radius = 0, highlight_radius = 0))\n",
    "visualisation_tool.register_algorithm(\"Component Tree Add Disk\", component_tree_add_disk, DiskMode(), preprocessing=component_tree_connectivity)\n",
    "visualisation_tool.display()"
   ]
  },
  {
   "cell_type": "markdown",
   "metadata": {},
   "source": [
    "Now for the implementation using the tree. The first method `component_tree_connectivity` builds the disjoint set for querying and also the component tree. Thereby it excludes one disk from the set which is then used by the second method `component_tree_add_disk` for inserting that into the tree separately. Which disk that is, is random, as the disks are stored in a set which is unordered.\n",
    "\n",
    "When inserting a disk, the tree is queried for intersected components. For those components, union-operations are performed on the disjoint set. Afterwards, the disk is inserted into the tree.\n",
    "The states of the component trees before and after the insertion are visualised in a simple text form."
   ]
  },
  {
   "cell_type": "markdown",
   "metadata": {},
   "source": [
    "## 4. References"
   ]
  },
  {
   "cell_type": "markdown",
   "metadata": {},
   "source": [
    "\\[1\\] Haim Kaplan and Katharina Klost and Kristin Knorr and Wolfgang Mulzer and Liam Roditty. **Insertion-Only Dynamic Connectivity in General Disk Graphs.**, in 2024 Symposium on Simplicity in Algorithms (SOSA), doi: 10.1137/1.9781611977936.27"
   ]
  }
 ],
 "metadata": {
  "kernelspec": {
   "display_name": "Python 3",
   "language": "python",
   "name": "python3"
  },
  "language_info": {
   "codemirror_mode": {
    "name": "ipython",
    "version": 3
   },
   "file_extension": ".py",
   "mimetype": "text/x-python",
   "name": "python",
   "nbconvert_exporter": "python",
   "pygments_lexer": "ipython3",
   "version": "3.11.3"
  },
  "orig_nbformat": 4
 },
 "nbformat": 4,
 "nbformat_minor": 2
}
