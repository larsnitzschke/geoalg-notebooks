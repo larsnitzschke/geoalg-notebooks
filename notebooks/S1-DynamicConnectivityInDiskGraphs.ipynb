{
 "cells": [
  {
   "cell_type": "markdown",
   "metadata": {},
   "source": [
    "# S1: Insertion-Only Dynamic Connectivity in General Disk Graphs\\[1\\]"
   ]
  },
  {
   "cell_type": "markdown",
   "metadata": {},
   "source": [
    "*Author: Lars Nitzschke* "
   ]
  },
  {
   "cell_type": "markdown",
   "metadata": {},
   "source": [
    "This notebook is part of the work in the seminar **Seminar on Algorithms**. More precisely it implements the algorithms and data structure discussed in the paper **\"Insertion-Only Dynamic Connectivity in General Disk Graphs\"** by Kaplan et al.[1]\n",
    "The notebook offers interactive visualisations and animations."
   ]
  },
  {
   "cell_type": "markdown",
   "metadata": {},
   "source": [
    "## Table of Contents"
   ]
  },
  {
   "cell_type": "markdown",
   "metadata": {},
   "source": [
    "1. Introduction\n",
    "1. Setup\n",
    "1. Implementation\n",
    "1. References  "
   ]
  },
  {
   "cell_type": "markdown",
   "metadata": {},
   "source": [
    "## 1. Introduction"
   ]
  },
  {
   "cell_type": "markdown",
   "metadata": {},
   "source": [
    "## 2. Setup"
   ]
  },
  {
   "cell_type": "markdown",
   "metadata": {},
   "source": [
    "First let's do some setup. This is not very interesting, so you can skip to Section 3 if you want.\n",
    "\n",
    "We now import everything we'll need throughout this notebook from external sources, including our module for generic data structures, our module for geometric primitives and operations as well as our module for visualisation purposes. \n",
    "These modules are explained in [notebook no. 00](./00-Basics.ipynb)."
   ]
  },
  {
   "cell_type": "code",
   "execution_count": 1,
   "metadata": {},
   "outputs": [],
   "source": [
    "# Python standard library imports\n",
    "from abc import ABC, abstractmethod\n",
    "from typing import Any, Optional, Iterable\n",
    "import random\n",
    "\n",
    "# Data structure, geometry and visualisation module imports\n",
    "from modules.data_structures import Comparator, ComparisonResult as CR, HalfEdge, DoublyConnectedEdgeList, PointLocation, Face, VDLineSegment, AnimationBinaryTreeDict, PLSearchStructure\n",
    "from modules.geometry import Point, PointReference, PointSequence, LineSegment, EPSILON, Rectangle, VerticalOrientation as VORT, HorizontalOrientation as HORT\n",
    "from modules.visualisation import VisualisationTool, PointLocationInstance, VerticalExtensionMode, PointLocationMode, DiskMode, DiskSetInstance\n",
    "from modules.geometry import Disk\n",
    "from modules.data_structures import DisjointSet, ComponentTree"
   ]
  },
  {
   "cell_type": "markdown",
   "metadata": {},
   "source": [
    "Additionally, we create an object for our visualisation tool. <!-- and register a few example instances.-->"
   ]
  },
  {
   "cell_type": "code",
   "execution_count": 2,
   "metadata": {},
   "outputs": [
    {
     "ename": "AttributeError",
     "evalue": "'DiskMode' object has no attribute '_vertex_radius'",
     "output_type": "error",
     "traceback": [
      "\u001b[1;31m---------------------------------------------------------------------------\u001b[0m",
      "\u001b[1;31mAttributeError\u001b[0m                            Traceback (most recent call last)",
      "File \u001b[1;32md:\\Code\\geoalg-notebooks\\geoalg-notebooks\\notebooks\\modules\\visualisation\\tool.py:47\u001b[0m, in \u001b[0;36mVisualisationTool.__init__.<locals>.handle_click_on_multi_canvas\u001b[1;34m(x, y)\u001b[0m\n\u001b[0;32m     45\u001b[0m \u001b[38;5;28;01mif\u001b[39;00m time\u001b[38;5;241m.\u001b[39mtime() \u001b[38;5;241m-\u001b[39m \u001b[38;5;28mself\u001b[39m\u001b[38;5;241m.\u001b[39m_previous_callback_finish_time \u001b[38;5;241m<\u001b[39m \u001b[38;5;241m1.0\u001b[39m:       \u001b[38;5;66;03m# TODO: This doesn't work well...\u001b[39;00m\n\u001b[0;32m     46\u001b[0m     \u001b[38;5;28;01mreturn\u001b[39;00m\n\u001b[1;32m---> 47\u001b[0m \u001b[38;5;28;01mif\u001b[39;00m \u001b[38;5;28;43mself\u001b[39;49m\u001b[38;5;241;43m.\u001b[39;49m\u001b[43madd_point\u001b[49m\u001b[43m(\u001b[49m\u001b[43mPoint\u001b[49m\u001b[43m(\u001b[49m\u001b[43mx\u001b[49m\u001b[43m,\u001b[49m\u001b[43m \u001b[49m\u001b[38;5;28;43mself\u001b[39;49m\u001b[38;5;241;43m.\u001b[39;49m\u001b[43m_height\u001b[49m\u001b[43m \u001b[49m\u001b[38;5;241;43m-\u001b[39;49m\u001b[43m \u001b[49m\u001b[43my\u001b[49m\u001b[43m)\u001b[49m\u001b[43m)\u001b[49m:\n\u001b[0;32m     48\u001b[0m     \u001b[38;5;28mself\u001b[39m\u001b[38;5;241m.\u001b[39mclear_algorithm_drawings()\n\u001b[0;32m     49\u001b[0m     \u001b[38;5;28mself\u001b[39m\u001b[38;5;241m.\u001b[39mclear_algorithm_messages()\n",
      "File \u001b[1;32md:\\Code\\geoalg-notebooks\\geoalg-notebooks\\notebooks\\modules\\visualisation\\tool.py:198\u001b[0m, in \u001b[0;36mVisualisationTool.add_point\u001b[1;34m(self, point)\u001b[0m\n\u001b[0;32m    196\u001b[0m     \u001b[38;5;28mself\u001b[39m\u001b[38;5;241m.\u001b[39m_update_instance_size_info()\n\u001b[0;32m    197\u001b[0m \u001b[38;5;28;01melif\u001b[39;00m was_point_added:\n\u001b[1;32m--> 198\u001b[0m     \u001b[38;5;28;43mself\u001b[39;49m\u001b[38;5;241;43m.\u001b[39;49m\u001b[43m_instance_drawer\u001b[49m\u001b[38;5;241;43m.\u001b[39;49m\u001b[43mdraw\u001b[49m\u001b[43m(\u001b[49m\u001b[43m(\u001b[49m\u001b[43mpoint\u001b[49m\u001b[43m,\u001b[49m\u001b[43m)\u001b[49m\u001b[43m)\u001b[49m\n\u001b[0;32m    199\u001b[0m     \u001b[38;5;28mself\u001b[39m\u001b[38;5;241m.\u001b[39m_number_of_points \u001b[38;5;241m+\u001b[39m\u001b[38;5;241m=\u001b[39m \u001b[38;5;241m1\u001b[39m\n\u001b[0;32m    200\u001b[0m     \u001b[38;5;28mself\u001b[39m\u001b[38;5;241m.\u001b[39m_update_instance_size_info()\n",
      "File \u001b[1;32md:\\Code\\geoalg-notebooks\\geoalg-notebooks\\notebooks\\modules\\visualisation\\drawing.py:128\u001b[0m, in \u001b[0;36mDrawer.draw\u001b[1;34m(self, points)\u001b[0m\n\u001b[0;32m    127\u001b[0m \u001b[38;5;28;01mdef\u001b[39;00m \u001b[38;5;21mdraw\u001b[39m(\u001b[38;5;28mself\u001b[39m, points: Iterable[Point]):\n\u001b[1;32m--> 128\u001b[0m     \u001b[38;5;28;43mself\u001b[39;49m\u001b[38;5;241;43m.\u001b[39;49m\u001b[43m_drawing_mode\u001b[49m\u001b[38;5;241;43m.\u001b[39;49m\u001b[43mdraw\u001b[49m\u001b[43m(\u001b[49m\u001b[38;5;28;43mself\u001b[39;49m\u001b[43m,\u001b[49m\u001b[43m \u001b[49m\u001b[43mpoints\u001b[49m\u001b[43m)\u001b[49m\n",
      "File \u001b[1;32md:\\Code\\geoalg-notebooks\\geoalg-notebooks\\notebooks\\modules\\visualisation\\drawing.py:197\u001b[0m, in \u001b[0;36mDiskMode.draw\u001b[1;34m(self, drawer, points)\u001b[0m\n\u001b[0;32m    195\u001b[0m \u001b[38;5;28;01mfor\u001b[39;00m point \u001b[38;5;129;01min\u001b[39;00m points:\n\u001b[0;32m    196\u001b[0m     \u001b[38;5;28;01mif\u001b[39;00m \u001b[38;5;129;01mnot\u001b[39;00m \u001b[38;5;28misinstance\u001b[39m(point, PointReference) \u001b[38;5;129;01mor\u001b[39;00m \u001b[38;5;28mlen\u001b[39m(point\u001b[38;5;241m.\u001b[39mcontainer) \u001b[38;5;241m==\u001b[39m \u001b[38;5;241m1\u001b[39m:\n\u001b[1;32m--> 197\u001b[0m         drawer\u001b[38;5;241m.\u001b[39mmain_canvas\u001b[38;5;241m.\u001b[39mdraw_point(point, \u001b[38;5;28;43mself\u001b[39;49m\u001b[38;5;241;43m.\u001b[39;49m\u001b[43m_vertex_radius\u001b[49m)\n\u001b[0;32m    198\u001b[0m     \u001b[38;5;28;01melif\u001b[39;00m \u001b[38;5;28mlen\u001b[39m(point\u001b[38;5;241m.\u001b[39mcontainer) \u001b[38;5;241m!=\u001b[39m \u001b[38;5;241m2\u001b[39m \u001b[38;5;129;01mor\u001b[39;00m point\u001b[38;5;241m.\u001b[39mposition \u001b[38;5;241m!=\u001b[39m \u001b[38;5;241m0\u001b[39m \u001b[38;5;129;01mor\u001b[39;00m point\u001b[38;5;241m.\u001b[39my \u001b[38;5;241m!=\u001b[39m point\u001b[38;5;241m.\u001b[39mcontainer[\u001b[38;5;241m1\u001b[39m]\u001b[38;5;241m.\u001b[39my:\n\u001b[0;32m    199\u001b[0m         \u001b[38;5;28;01mraise\u001b[39;00m \u001b[38;5;167;01mException\u001b[39;00m(\u001b[38;5;124mf\u001b[39m\u001b[38;5;124m\"\u001b[39m\u001b[38;5;124mWrong format of the PointReference \u001b[39m\u001b[38;5;132;01m{\u001b[39;00mpoint\u001b[38;5;132;01m}\u001b[39;00m\u001b[38;5;124m for drawing disks.\u001b[39m\u001b[38;5;124m\"\u001b[39m)\n",
      "\u001b[1;31mAttributeError\u001b[0m: 'DiskMode' object has no attribute '_vertex_radius'"
     ]
    }
   ],
   "source": [
    "visualisation_tool = VisualisationTool(400, 400, DiskSetInstance())\n",
    "canvas_size = min(visualisation_tool.width, visualisation_tool.height)"
   ]
  },
  {
   "cell_type": "markdown",
   "metadata": {},
   "source": [
    "## 3. Implementation"
   ]
  },
  {
   "cell_type": "code",
   "execution_count": 3,
   "metadata": {},
   "outputs": [
    {
     "data": {
      "application/vnd.jupyter.widget-view+json": {
       "model_id": "69dc4a488715479f9211dc57cf3f570b",
       "version_major": 2,
       "version_minor": 0
      },
      "text/plain": [
       "HBox(children=(VBox(children=(Output(layout=Layout(border_bottom='1px solid black', border_left='1px solid bla…"
      ]
     },
     "metadata": {},
     "output_type": "display_data"
    }
   ],
   "source": [
    "visualisation_tool.display()"
   ]
  },
  {
   "cell_type": "markdown",
   "metadata": {},
   "source": [
    "## 4. References"
   ]
  },
  {
   "cell_type": "markdown",
   "metadata": {},
   "source": [
    "\\[1\\] Haim Kaplan and Katharina Klost and Kristin Knorr and Wolfgang Mulzer and Liam Roditty. **Insertion-Only Dynamic Connectivity in General Disk Graphs.**, in 2024 Symposium on Simplicity in Algorithms (SOSA), doi: 10.1137/1.9781611977936.27"
   ]
  }
 ],
 "metadata": {
  "kernelspec": {
   "display_name": "Python 3",
   "language": "python",
   "name": "python3"
  },
  "language_info": {
   "codemirror_mode": {
    "name": "ipython",
    "version": 3
   },
   "file_extension": ".py",
   "mimetype": "text/x-python",
   "name": "python",
   "nbconvert_exporter": "python",
   "pygments_lexer": "ipython3",
   "version": "3.11.3"
  },
  "orig_nbformat": 4
 },
 "nbformat": 4,
 "nbformat_minor": 2
}
